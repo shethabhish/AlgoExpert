{
 "cells": [
  {
   "cell_type": "code",
   "execution_count": 1,
   "metadata": {},
   "outputs": [],
   "source": [
    "from heapq import *\n",
    "def find_largest(arr):\n",
    "    minheap = []\n",
    "    for i in range(3):\n",
    "        heappush(minheap,arr[i])\n",
    "    for i in range(3,len(arr)):\n",
    "        if arr[i] > minheap[0]:\n",
    "            heappop(minheap)\n",
    "            heappush(minheap,arr[i])\n",
    "    return minheap"
   ]
  },
  {
   "cell_type": "code",
   "execution_count": 2,
   "metadata": {},
   "outputs": [
    {
     "data": {
      "text/plain": [
       "[18, 141, 541]"
      ]
     },
     "execution_count": 2,
     "metadata": {},
     "output_type": "execute_result"
    }
   ],
   "source": [
    "find_largest([141,1,17,-7,-17,-27,18,541,8,7,7])"
   ]
  },
  {
   "cell_type": "code",
   "execution_count": 3,
   "metadata": {},
   "outputs": [],
   "source": [
    "def find_three_largest(array):\n",
    "    three_largest_number = [None, None, None]\n",
    "    for num in array:\n",
    "        update_largest(num, three_largest_number)\n",
    "    return three_largest_number"
   ]
  },
  {
   "cell_type": "code",
   "execution_count": 4,
   "metadata": {},
   "outputs": [],
   "source": [
    "def update_largest(number, three_largest_number):\n",
    "    if three_largest_number[2] is None or number > three_largest_number[2]:\n",
    "        shift_and_update(three_largest_number, number, 2)\n",
    "    elif three_largest_number[1] is None or number > three_largest_number[1]:\n",
    "        shift_and_update(three_largest_number, number, 1)\n",
    "    elif three_largest_number[0] is None or number > three_largest_number[0]:\n",
    "        shift_and_update(three_largest_number, number, 0)"
   ]
  },
  {
   "cell_type": "code",
   "execution_count": 5,
   "metadata": {},
   "outputs": [],
   "source": [
    "def shift_and_update(three_largest_number, number, index):\n",
    "    for i in range(index + 1):\n",
    "        if i == index:\n",
    "            three_largest_number[index] = number\n",
    "        else:\n",
    "            three_largest_number[i] = three_largest_number[i + 1]"
   ]
  },
  {
   "cell_type": "code",
   "execution_count": 6,
   "metadata": {},
   "outputs": [
    {
     "data": {
      "text/plain": [
       "[18, 141, 541]"
      ]
     },
     "execution_count": 6,
     "metadata": {},
     "output_type": "execute_result"
    }
   ],
   "source": [
    "find_three_largest([141,1,17,-7,-17,-27,18,541,8,7,7])"
   ]
  }
 ],
 "metadata": {
  "kernelspec": {
   "display_name": "Python 3",
   "language": "python",
   "name": "python3"
  },
  "language_info": {
   "codemirror_mode": {
    "name": "ipython",
    "version": 3
   },
   "file_extension": ".py",
   "mimetype": "text/x-python",
   "name": "python",
   "nbconvert_exporter": "python",
   "pygments_lexer": "ipython3",
   "version": "3.7.6"
  }
 },
 "nbformat": 4,
 "nbformat_minor": 4
}
