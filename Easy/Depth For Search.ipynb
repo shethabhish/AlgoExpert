{
 "cells": [
  {
   "cell_type": "code",
   "execution_count": 1,
   "metadata": {},
   "outputs": [],
   "source": [
    "class Tree:\n",
    "    def __init__(self,name):\n",
    "        self.name = naMe\n",
    "        self.children = []\n",
    "    def add_child(self,name):\n",
    "        self.children.append(Node(name))\n",
    "    def dfs(self,array):\n",
    "        array.append(self.name)\n",
    "        for child in self.children:\n",
    "            child.dfs(array)\n",
    "        return array"
   ]
  },
  {
   "cell_type": "code",
   "execution_count": 2,
   "metadata": {},
   "outputs": [],
   "source": [
    "def dfs(root):\n",
    "    if root is None:\n",
    "        return\n",
    "    print(root.val)\n",
    "    dfs(root.left)\n",
    "    dfs(root.right)"
   ]
  },
  {
   "cell_type": "code",
   "execution_count": 3,
   "metadata": {},
   "outputs": [],
   "source": [
    "class Tree:\n",
    "    def __init__(self,val):\n",
    "        self.val = val\n",
    "        self.left = None\n",
    "        self.right = None"
   ]
  },
  {
   "cell_type": "code",
   "execution_count": 4,
   "metadata": {},
   "outputs": [],
   "source": [
    "root = Tree(10)\n",
    "root.left = Tree(5)\n",
    "root.right = Tree(15)\n",
    "root.left.left = Tree(2)\n",
    "root.left.right = Tree(5)\n",
    "root.left.left.left = Tree(1)\n",
    "root.right.left = Tree(13)\n",
    "root.right.right = Tree(22)\n",
    "root.right.left.right = Tree(14)"
   ]
  },
  {
   "cell_type": "code",
   "execution_count": 5,
   "metadata": {},
   "outputs": [
    {
     "name": "stdout",
     "output_type": "stream",
     "text": [
      "10\n",
      "5\n",
      "2\n",
      "1\n",
      "5\n",
      "15\n",
      "13\n",
      "14\n",
      "22\n"
     ]
    }
   ],
   "source": [
    "dfs(root)"
   ]
  }
 ],
 "metadata": {
  "kernelspec": {
   "display_name": "Python 3",
   "language": "python",
   "name": "python3"
  },
  "language_info": {
   "codemirror_mode": {
    "name": "ipython",
    "version": 3
   },
   "file_extension": ".py",
   "mimetype": "text/x-python",
   "name": "python",
   "nbconvert_exporter": "python",
   "pygments_lexer": "ipython3",
   "version": "3.7.6"
  }
 },
 "nbformat": 4,
 "nbformat_minor": 4
}
