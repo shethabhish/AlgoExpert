{
 "cells": [
  {
   "cell_type": "code",
   "execution_count": 1,
   "metadata": {},
   "outputs": [],
   "source": [
    "class Trie:\n",
    "    def __init__(self):\n",
    "        self.root = {}\n",
    "        self.end = \"*\"\n",
    "    def insert(self,string):\n",
    "        current = self.root\n",
    "        for i in range(len(string)):\n",
    "            if string[i] not in current:\n",
    "                current[string[i]] = {}\n",
    "            current = current[string[i]]\n",
    "        current[self.end] = string"
   ]
  },
  {
   "cell_type": "code",
   "execution_count": 2,
   "metadata": {},
   "outputs": [],
   "source": [
    "def multi_string_search(bigstring,smallstring):\n",
    "    trie = Trie()\n",
    "    for string in smallstring:\n",
    "        trie.insert(string)\n",
    "    containedstrings = {}\n",
    "    for i in range(len(bigstring)):\n",
    "        find_small_strings_in(bigstring,i,trie,containedstrings)\n",
    "    return [string in containedstrings for string in smallstring]"
   ]
  },
  {
   "cell_type": "code",
   "execution_count": 3,
   "metadata": {},
   "outputs": [],
   "source": [
    "def find_small_strings_in(strings,startidx,trie,containedstrings):\n",
    "    current = trie.root\n",
    "    for i in range(startidx,len(strings)):\n",
    "        currentChar = strings[i]\n",
    "        if currentChar not in current:\n",
    "            break\n",
    "        current = current[currentChar]\n",
    "        if trie.end in current:\n",
    "            containedstrings[current[trie.end]] = True"
   ]
  },
  {
   "cell_type": "code",
   "execution_count": 4,
   "metadata": {},
   "outputs": [
    {
     "data": {
      "text/plain": [
       "[True, False, True, True, False, True, False]"
      ]
     },
     "execution_count": 4,
     "metadata": {},
     "output_type": "execute_result"
    }
   ],
   "source": [
    "multi_string_search(\"this is a big string\",[\"this\",\"yo\",\"is\",\"a\",\"bigger\",\"string\",\"kappa\"])"
   ]
  }
 ],
 "metadata": {
  "kernelspec": {
   "display_name": "Python 3",
   "language": "python",
   "name": "python3"
  },
  "language_info": {
   "codemirror_mode": {
    "name": "ipython",
    "version": 3
   },
   "file_extension": ".py",
   "mimetype": "text/x-python",
   "name": "python",
   "nbconvert_exporter": "python",
   "pygments_lexer": "ipython3",
   "version": "3.7.6"
  }
 },
 "nbformat": 4,
 "nbformat_minor": 4
}
