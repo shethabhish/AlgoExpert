{
 "cells": [
  {
   "cell_type": "code",
   "execution_count": 1,
   "metadata": {},
   "outputs": [],
   "source": [
    "def disk_stacking(disks):\n",
    "    disks.sort(key = lambda disk:disk[2])\n",
    "    heights = [disk[2] for disk in disks]\n",
    "    sequence = [None for disks in disks]\n",
    "    maxheighidx = 0\n",
    "    for i in range(1,len(disks)):\n",
    "        current = disks[i]\n",
    "        for j in range(i):\n",
    "            other = disks[j]\n",
    "            if are_valid(other,current):\n",
    "                if heights[i] <= current[2] + heights[j]:\n",
    "                    heights[i] = current[2] + heights[j]\n",
    "                    sequence[i] = j\n",
    "        if heights[i] >= heights[maxheighidx]:\n",
    "            maxheighidx = i\n",
    "    return build_sequence(disks,sequence,maxheighidx)"
   ]
  },
  {
   "cell_type": "code",
   "execution_count": 2,
   "metadata": {},
   "outputs": [],
   "source": [
    "def are_valid(o,c):\n",
    "    return o[0] < c[0] and o[1] < c[1] and o[2] < c[2]"
   ]
  },
  {
   "cell_type": "code",
   "execution_count": 3,
   "metadata": {},
   "outputs": [],
   "source": [
    "def build_sequence(disks,sequences,maxheighidx):\n",
    "    sequence = []\n",
    "    while maxheighidx:\n",
    "        sequence.append(disks[maxheighidx])\n",
    "        maxheighidx = sequences[maxheighidx]\n",
    "    return sequence[::-1]"
   ]
  },
  {
   "cell_type": "code",
   "execution_count": 4,
   "metadata": {},
   "outputs": [
    {
     "data": {
      "text/plain": [
       "[[2, 1, 2], [3, 2, 3], [4, 4, 5]]"
      ]
     },
     "execution_count": 4,
     "metadata": {},
     "output_type": "execute_result"
    }
   ],
   "source": [
    "disk_stacking([[2,2,1],[2,1,2],[3,2,3],[2,3,4],[4,4,5],[2,2,8]])"
   ]
  }
 ],
 "metadata": {
  "kernelspec": {
   "display_name": "Python 3",
   "language": "python",
   "name": "python3"
  },
  "language_info": {
   "codemirror_mode": {
    "name": "ipython",
    "version": 3
   },
   "file_extension": ".py",
   "mimetype": "text/x-python",
   "name": "python",
   "nbconvert_exporter": "python",
   "pygments_lexer": "ipython3",
   "version": "3.7.6"
  }
 },
 "nbformat": 4,
 "nbformat_minor": 4
}
