{
 "cells": [
  {
   "cell_type": "code",
   "execution_count": 1,
   "metadata": {},
   "outputs": [],
   "source": [
    "def quick_sort(arr):\n",
    "    if len(arr) == 0:\n",
    "        return\n",
    "    quickSort(arr,0,len(arr)-1)\n",
    "    return arr"
   ]
  },
  {
   "cell_type": "code",
   "execution_count": 2,
   "metadata": {},
   "outputs": [],
   "source": [
    "from random import randint\n",
    "def quickSort(arr,start,end):\n",
    "    if start < 0 or end >= len(arr) or start >= end:\n",
    "        return\n",
    "    pivot = randint(start,end)\n",
    "    points = dnf(arr,start,end,pivot)\n",
    "    quickSort(arr,start,points[0])\n",
    "    quickSort(arr,points[1],end)"
   ]
  },
  {
   "cell_type": "code",
   "execution_count": 3,
   "metadata": {},
   "outputs": [],
   "source": [
    "def dnf(arr,start,end,pivotIndex):\n",
    "    pivot = arr[pivotIndex]\n",
    "    low,mid,high = start - 1, start - 1, end + 1\n",
    "    while mid + 1 < high:\n",
    "        if arr[mid + 1] > pivot:\n",
    "            arr[high-1],arr[mid+1] = arr[mid+1],arr[high-1]\n",
    "            high -= 1\n",
    "        elif arr[mid+1] == pivot:\n",
    "            mid += 1\n",
    "        else:\n",
    "            arr[mid+1],arr[low+1] = arr[low+1],arr[mid+1]\n",
    "            mid += 1\n",
    "            low += 1\n",
    "    return [low,high]"
   ]
  },
  {
   "cell_type": "code",
   "execution_count": 4,
   "metadata": {},
   "outputs": [
    {
     "data": {
      "text/plain": [
       "[1, 2, 3, 4, 6, 7, 8, 9]"
      ]
     },
     "execution_count": 4,
     "metadata": {},
     "output_type": "execute_result"
    }
   ],
   "source": [
    "quick_sort([8,6,4,7,2,3,9,1])"
   ]
  }
 ],
 "metadata": {
  "kernelspec": {
   "display_name": "Python 3",
   "language": "python",
   "name": "python3"
  },
  "language_info": {
   "codemirror_mode": {
    "name": "ipython",
    "version": 3
   },
   "file_extension": ".py",
   "mimetype": "text/x-python",
   "name": "python",
   "nbconvert_exporter": "python",
   "pygments_lexer": "ipython3",
   "version": "3.7.6"
  }
 },
 "nbformat": 4,
 "nbformat_minor": 4
}
