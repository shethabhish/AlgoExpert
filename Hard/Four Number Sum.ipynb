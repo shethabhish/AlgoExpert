{
 "cells": [
  {
   "cell_type": "code",
   "execution_count": 1,
   "metadata": {},
   "outputs": [],
   "source": [
    "def four_number_sum(arr,target):\n",
    "    result = []\n",
    "    arr.sort()\n",
    "    for i in range(len(arr)-3):\n",
    "        if i > 0 and arr[i-1] == arr[i]:\n",
    "            continue\n",
    "        for j in range(i+1,len(arr)-2):\n",
    "            if j > i+1 and arr[j-1] == arr[j]:\n",
    "                continue\n",
    "            left,right = j+1,len(arr)-1\n",
    "            while left < right:\n",
    "                current = arr[i]+arr[j]+arr[left]+arr[right]\n",
    "                if current < target:\n",
    "                    left += 1\n",
    "                elif current > target:\n",
    "                    right -= 1\n",
    "                else:\n",
    "                    result.append([arr[i],arr[j],arr[left],arr[right]])\n",
    "                    while left < right and arr[left] == arr[left+1]:\n",
    "                        left += 1\n",
    "                    while left < right and arr[right-1] == arr[right]:\n",
    "                        right -= 1\n",
    "                    left += 1\n",
    "                    right -= 1\n",
    "    return result"
   ]
  },
  {
   "cell_type": "code",
   "execution_count": 2,
   "metadata": {},
   "outputs": [
    {
     "data": {
      "text/plain": [
       "[[-2, -1, 1, 2], [-2, 0, 0, 2], [-1, 0, 0, 1]]"
      ]
     },
     "execution_count": 2,
     "metadata": {},
     "output_type": "execute_result"
    }
   ],
   "source": [
    "four_number_sum([1,0,-1,0,-2,2],0)"
   ]
  }
 ],
 "metadata": {
  "kernelspec": {
   "display_name": "Python 3",
   "language": "python",
   "name": "python3"
  },
  "language_info": {
   "codemirror_mode": {
    "name": "ipython",
    "version": 3
   },
   "file_extension": ".py",
   "mimetype": "text/x-python",
   "name": "python",
   "nbconvert_exporter": "python",
   "pygments_lexer": "ipython3",
   "version": "3.7.6"
  }
 },
 "nbformat": 4,
 "nbformat_minor": 4
}
