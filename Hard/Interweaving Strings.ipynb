{
 "cells": [
  {
   "cell_type": "code",
   "execution_count": 1,
   "metadata": {},
   "outputs": [],
   "source": [
    "def interweaving_strings(one,two,three):\n",
    "    if len(three) != len(one)+len(two):\n",
    "        return False\n",
    "    cache = [[None for i in range(len(two)+1)] for i in range(len(one)+1)]\n",
    "    return are_interwoven(one,two,three,cache,0,0)"
   ]
  },
  {
   "cell_type": "code",
   "execution_count": 2,
   "metadata": {},
   "outputs": [],
   "source": [
    "def are_interwoven(one,two,three,cache,i,j):\n",
    "    if cache[i][j] is not None:\n",
    "        return cache[i][j]\n",
    "    k = i+j\n",
    "    if k == len(three):\n",
    "        return True\n",
    "    if i < len(one) and one[i] == three[k]:\n",
    "        cache[i][j] = are_interwoven(one,two,three,cache,i+1,j)\n",
    "        if cache[i][j]:\n",
    "            return True\n",
    "    if j < len(two) and two[j] == three[k]:\n",
    "        cache[i][j] = are_interwoven(one,two,three,cache,i,j+1)\n",
    "        return cache[i][j]\n",
    "    cache[i][j] = False\n",
    "    return False"
   ]
  },
  {
   "cell_type": "code",
   "execution_count": 3,
   "metadata": {},
   "outputs": [
    {
     "data": {
      "text/plain": [
       "True"
      ]
     },
     "execution_count": 3,
     "metadata": {},
     "output_type": "execute_result"
    }
   ],
   "source": [
    "interweaving_strings(\"aaa\",\"aaaf\",\"aaafaaa\")"
   ]
  },
  {
   "cell_type": "code",
   "execution_count": 4,
   "metadata": {},
   "outputs": [],
   "source": [
    "def interweaving_strings(s1,s2,s3):\n",
    "    if len(s3) != len(s1)+len(s2):\n",
    "        return False\n",
    "    dp = [[False for i in range(len(s2)+1)] for j in range(len(s1)+1)]\n",
    "    for i in range(len(s1)+1):\n",
    "        for j in range(len(s2)+1):\n",
    "            if i == 0 and j == 0:\n",
    "                dp[i][j] = True\n",
    "            elif i == 0:\n",
    "                dp[i][j] = (dp[i][j-1] and s2[j-1] == s3[i+j-1])\n",
    "            elif j == 0:\n",
    "                dp[i][j] = dp[i-1][j] and s1[i-1] == s3[i+j-1]\n",
    "            else:\n",
    "                dp[i][j] = (dp[i-1][j] and s1[i-1] == s3[i+j-1]) or (dp[i][j-1] and s2[j-1] == s3[i+j-1])\n",
    "    return dp"
   ]
  },
  {
   "cell_type": "code",
   "execution_count": 5,
   "metadata": {},
   "outputs": [
    {
     "data": {
      "text/plain": [
       "[[True, True, True, True, True],\n",
       " [True, True, True, False, True],\n",
       " [True, True, False, False, True],\n",
       " [True, False, False, False, True]]"
      ]
     },
     "execution_count": 5,
     "metadata": {},
     "output_type": "execute_result"
    }
   ],
   "source": [
    "interweaving_strings(\"aaa\",\"aaaf\",\"aaafaaa\")"
   ]
  }
 ],
 "metadata": {
  "kernelspec": {
   "display_name": "Python 3",
   "language": "python",
   "name": "python3"
  },
  "language_info": {
   "codemirror_mode": {
    "name": "ipython",
    "version": 3
   },
   "file_extension": ".py",
   "mimetype": "text/x-python",
   "name": "python",
   "nbconvert_exporter": "python",
   "pygments_lexer": "ipython3",
   "version": "3.7.6"
  }
 },
 "nbformat": 4,
 "nbformat_minor": 4
}
