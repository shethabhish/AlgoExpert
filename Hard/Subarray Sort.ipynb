{
 "cells": [
  {
   "cell_type": "code",
   "execution_count": 1,
   "metadata": {},
   "outputs": [],
   "source": [
    "def subarray_sort(arr):\n",
    "    if len(arr) <= 0:\n",
    "        return []\n",
    "    low,high = 0,len(arr)-1\n",
    "    while low < high and  arr[low] <= arr[low+1]:\n",
    "        low += 1\n",
    "    if low == high:\n",
    "        return high\n",
    "    if high > low and arr[high] >= arr[high-1]:\n",
    "        high -= 1\n",
    "    mini,maxi = float(\"inf\"),-float(\"inf\")\n",
    "    for i in range(low,high+1):\n",
    "        mini = min(mini,arr[i])\n",
    "        maxi = max(maxi,arr[i])\n",
    "    while low > 0 and mini > arr[low]:\n",
    "        low -= 1\n",
    "    while high < len(arr)-1 and maxi < arr[high]:\n",
    "        high += 1\n",
    "    return arr[low:high]"
   ]
  },
  {
   "cell_type": "code",
   "execution_count": 2,
   "metadata": {},
   "outputs": [
    {
     "data": {
      "text/plain": [
       "[10, 4, 2]"
      ]
     },
     "execution_count": 2,
     "metadata": {},
     "output_type": "execute_result"
    }
   ],
   "source": [
    "subarray_sort([1,2,3,10,4,2,3,5])"
   ]
  }
 ],
 "metadata": {
  "kernelspec": {
   "display_name": "Python 3",
   "language": "python",
   "name": "python3"
  },
  "language_info": {
   "codemirror_mode": {
    "name": "ipython",
    "version": 3
   },
   "file_extension": ".py",
   "mimetype": "text/x-python",
   "name": "python",
   "nbconvert_exporter": "python",
   "pygments_lexer": "ipython3",
   "version": "3.7.6"
  }
 },
 "nbformat": 4,
 "nbformat_minor": 4
}
