{
 "cells": [
  {
   "cell_type": "code",
   "execution_count": 1,
   "metadata": {},
   "outputs": [],
   "source": [
    "def longest_common_subsequence(s1,s2):\n",
    "    lcs = [[\"\" for x in range(len(s1)+1)] for y in range(len(s2)+1)]\n",
    "    for i in range(1,len(s2)+1):\n",
    "        for j in range(1,len(s1)+1):\n",
    "            if s2[i-1] == s1[j-1]:\n",
    "                lcs[i][j] = lcs[i-1][j-1]+s2[i-1]\n",
    "            else:\n",
    "                lcs[i][j] = max(lcs[i-1][j],lcs[i][j-1],key = len)\n",
    "    return lcs[-1][-1]"
   ]
  },
  {
   "cell_type": "code",
   "execution_count": 2,
   "metadata": {},
   "outputs": [
    {
     "data": {
      "text/plain": [
       "'xyzw'"
      ]
     },
     "execution_count": 2,
     "metadata": {},
     "output_type": "execute_result"
    }
   ],
   "source": [
    "longest_common_subsequence(\"zxvvyzw\",\"xkykzpw\")"
   ]
  }
 ],
 "metadata": {
  "kernelspec": {
   "display_name": "Python 3",
   "language": "python",
   "name": "python3"
  },
  "language_info": {
   "codemirror_mode": {
    "name": "ipython",
    "version": 3
   },
   "file_extension": ".py",
   "mimetype": "text/x-python",
   "name": "python",
   "nbconvert_exporter": "python",
   "pygments_lexer": "ipython3",
   "version": "3.7.6"
  }
 },
 "nbformat": 4,
 "nbformat_minor": 4
}
