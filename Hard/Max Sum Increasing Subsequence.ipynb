{
 "cells": [
  {
   "cell_type": "code",
   "execution_count": 1,
   "metadata": {},
   "outputs": [],
   "source": [
    "def max_sum_increasing(arr):\n",
    "    maxsum,sums,result = 0,arr[:],[None]*len(arr)\n",
    "    for i in range(len(arr)):\n",
    "        current = arr[i]\n",
    "        for j in range(i):\n",
    "            other = arr[j]\n",
    "            if other < current and current+sums[j] >= sums[i]:\n",
    "                sums[i] = sums[j]+current\n",
    "                result[i] = j\n",
    "        if sums[i] >= sums[maxsum]:\n",
    "            maxsum = i\n",
    "    return [sums[maxsum],buildsequence(arr,result,maxsum)]"
   ]
  },
  {
   "cell_type": "code",
   "execution_count": 2,
   "metadata": {},
   "outputs": [],
   "source": [
    "def buildsequence(arr,result,current):\n",
    "    sequence = []\n",
    "    while current is not None:\n",
    "        sequence.append(arr[current])\n",
    "        current = result[current]\n",
    "    return sequence[::-1]"
   ]
  },
  {
   "cell_type": "code",
   "execution_count": 3,
   "metadata": {},
   "outputs": [
    {
     "data": {
      "text/plain": [
       "[35, [8, 12, 15]]"
      ]
     },
     "execution_count": 3,
     "metadata": {},
     "output_type": "execute_result"
    }
   ],
   "source": [
    "max_sum_increasing([8,12,2,3,15,5,7])"
   ]
  }
 ],
 "metadata": {
  "kernelspec": {
   "display_name": "Python 3",
   "language": "python",
   "name": "python3"
  },
  "language_info": {
   "codemirror_mode": {
    "name": "ipython",
    "version": 3
   },
   "file_extension": ".py",
   "mimetype": "text/x-python",
   "name": "python",
   "nbconvert_exporter": "python",
   "pygments_lexer": "ipython3",
   "version": "3.7.6"
  }
 },
 "nbformat": 4,
 "nbformat_minor": 4
}
