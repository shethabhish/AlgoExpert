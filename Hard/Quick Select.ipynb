{
 "cells": [
  {
   "cell_type": "code",
   "execution_count": 1,
   "metadata": {},
   "outputs": [],
   "source": [
    "def find_kth_smallest(arr,k):\n",
    "    if len(arr) == 0 or k > len(arr):\n",
    "        return None\n",
    "    return quick_select(arr,0,len(arr)-1,k-1)"
   ]
  },
  {
   "cell_type": "code",
   "execution_count": 2,
   "metadata": {},
   "outputs": [],
   "source": [
    "import random\n",
    "def quick_select(arr,left, right, k_smallest):\n",
    "    pivot_index = random.randint(left, right)                \n",
    "    pivot_index = partition(arr,left, right, pivot_index)\n",
    "    if k_smallest == pivot_index:\n",
    "        return arr[k_smallest]\n",
    "    elif k_smallest < pivot_index:\n",
    "        return quick_select(arr,left, pivot_index - 1, k_smallest)\n",
    "    else:\n",
    "        return quick_select(arr,pivot_index + 1, right, k_smallest)"
   ]
  },
  {
   "cell_type": "code",
   "execution_count": 3,
   "metadata": {},
   "outputs": [],
   "source": [
    "def partition(nums,left, right, pivot_index):\n",
    "    pivot = nums[pivot_index]\n",
    "    nums[pivot_index], nums[right] = nums[right], nums[pivot_index]  \n",
    "    store_index = left\n",
    "    for i in range(left, right):\n",
    "        if nums[i] < pivot:\n",
    "            nums[store_index], nums[i] = nums[i], nums[store_index]\n",
    "            store_index += 1\n",
    "        nums[right], nums[store_index] = nums[store_index], nums[right]  \n",
    "    return store_index"
   ]
  },
  {
   "cell_type": "code",
   "execution_count": 4,
   "metadata": {},
   "outputs": [
    {
     "data": {
      "text/plain": [
       "5"
      ]
     },
     "execution_count": 4,
     "metadata": {},
     "output_type": "execute_result"
    }
   ],
   "source": [
    "find_kth_smallest([8,5,2,9,7,6,3],3)"
   ]
  }
 ],
 "metadata": {
  "kernelspec": {
   "display_name": "Python 3",
   "language": "python",
   "name": "python3"
  },
  "language_info": {
   "codemirror_mode": {
    "name": "ipython",
    "version": 3
   },
   "file_extension": ".py",
   "mimetype": "text/x-python",
   "name": "python",
   "nbconvert_exporter": "python",
   "pygments_lexer": "ipython3",
   "version": "3.7.6"
  }
 },
 "nbformat": 4,
 "nbformat_minor": 4
}
