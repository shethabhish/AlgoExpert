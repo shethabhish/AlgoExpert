{
 "cells": [
  {
   "cell_type": "code",
   "execution_count": 1,
   "metadata": {},
   "outputs": [],
   "source": [
    "def underscorify_subsrting(sentence,word):\n",
    "    indexes = [[i,i+len(word)] for i in range(len(sentence)) if sentence.startswith(word,i)]\n",
    "    collapse(indexes)\n",
    "    return build_string(sentence,indexes)"
   ]
  },
  {
   "cell_type": "code",
   "execution_count": 2,
   "metadata": {},
   "outputs": [],
   "source": [
    "def collapse(indexes):\n",
    "    i = 1\n",
    "    while i < len(indexes):\n",
    "        if indexes[i][0] <= indexes[i-1][1]:\n",
    "            indexes[i-1][0] = min(indexes[i-1][0],indexes[i][0])\n",
    "            indexes[i-1][1] = max(indexes[i-1][1],indexes[i][1])\n",
    "            indexes.pop(i)\n",
    "        else:\n",
    "            i += 1\n",
    "    return indexes"
   ]
  },
  {
   "cell_type": "code",
   "execution_count": 3,
   "metadata": {},
   "outputs": [],
   "source": [
    "def build_string(sentence,indexes):\n",
    "    result = [i for i in sentence]\n",
    "    i=0\n",
    "    while indexes:\n",
    "        start,end = indexes.pop(0)\n",
    "        result.insert(start+i,'_')\n",
    "        i += 1\n",
    "        result.insert(end+i,'_')\n",
    "        i += 1\n",
    "    return ''.join(result)"
   ]
  },
  {
   "cell_type": "code",
   "execution_count": 4,
   "metadata": {},
   "outputs": [
    {
     "data": {
      "text/plain": [
       "'_test_this is a _testtest_ to see if _testestest_ it works'"
      ]
     },
     "execution_count": 4,
     "metadata": {},
     "output_type": "execute_result"
    }
   ],
   "source": [
    "underscorify_subsrting(\"testthis is a testtest to see if testestest it works\",\"test\")"
   ]
  }
 ],
 "metadata": {
  "kernelspec": {
   "display_name": "Python 3",
   "language": "python",
   "name": "python3"
  },
  "language_info": {
   "codemirror_mode": {
    "name": "ipython",
    "version": 3
   },
   "file_extension": ".py",
   "mimetype": "text/x-python",
   "name": "python",
   "nbconvert_exporter": "python",
   "pygments_lexer": "ipython3",
   "version": "3.7.6"
  }
 },
 "nbformat": 4,
 "nbformat_minor": 4
}
