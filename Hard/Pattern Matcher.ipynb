{
 "cells": [
  {
   "cell_type": "code",
   "execution_count": 1,
   "metadata": {},
   "outputs": [],
   "source": [
    "def pattern_matcher(pattern,s):\n",
    "    if len(pattern) > len(s):\n",
    "        return []\n",
    "    newpattern = get_new_pattern(pattern)\n",
    "    did_switch = newpattern[0] != pattern[0]\n",
    "    counts = {\"x\":0,\"y\":0}\n",
    "    firstypos = get_and_update(newpattern,counts)\n",
    "    if counts[\"y\"] != 0:\n",
    "        for lenofx in range(1,len(s)):\n",
    "            lenofy = (len(s)- lenofx * counts[\"x\"])/counts[\"y\"]\n",
    "            if lenofy <= 0 or lenofy%1 != 0:\n",
    "                continue\n",
    "            lenofy = int(lenofy)\n",
    "            yidx = firstypos*lenofx\n",
    "            x = s[:lenofx]\n",
    "            y = s[yidx:yidx+lenofy]\n",
    "            match = map(lambda char: x if char == \"x\" else y, newpattern)\n",
    "            if s == \"\".join(match):\n",
    "                return [x,y] if not did_switch else [y,x]\n",
    "    else:\n",
    "        lenofx = len(s)/counts[\"x\"]\n",
    "        if lenofx%1 == 0:\n",
    "            lenofx = int(lenofx)\n",
    "            x = s[:lenofx]\n",
    "            match = map(lambda char: x, newpattern)\n",
    "            if s == \"\".join(match):\n",
    "                return [x,\"\"] if not did_switch else [\"\",x]\n",
    "    return []"
   ]
  },
  {
   "cell_type": "code",
   "execution_count": 2,
   "metadata": {},
   "outputs": [],
   "source": [
    "def get_new_pattern(pattern):\n",
    "    pattern_letters = list(pattern)\n",
    "    if pattern[0] == \"x\":\n",
    "        return pattern_letters\n",
    "    else:\n",
    "        return list(map(lambda char: \"x\" if char == \"y\" else \"y\", pattern_letters))"
   ]
  },
  {
   "cell_type": "code",
   "execution_count": 3,
   "metadata": {},
   "outputs": [],
   "source": [
    "def get_and_update(pattern,counts):\n",
    "    firstypos = None\n",
    "    for i in range(len(pattern)):\n",
    "        counts[pattern[i]] += 1\n",
    "        if pattern[i] == \"y\" and firstypos is None:\n",
    "            firstypos = i\n",
    "    return firstypos"
   ]
  },
  {
   "cell_type": "code",
   "execution_count": 4,
   "metadata": {},
   "outputs": [
    {
     "data": {
      "text/plain": [
       "['go', 'powerranger']"
      ]
     },
     "execution_count": 4,
     "metadata": {},
     "output_type": "execute_result"
    }
   ],
   "source": [
    "pattern_matcher(\"xxyxxy\",\"gogopowerrangergogopowerranger\")"
   ]
  }
 ],
 "metadata": {
  "kernelspec": {
   "display_name": "Python 3",
   "language": "python",
   "name": "python3"
  },
  "language_info": {
   "codemirror_mode": {
    "name": "ipython",
    "version": 3
   },
   "file_extension": ".py",
   "mimetype": "text/x-python",
   "name": "python",
   "nbconvert_exporter": "python",
   "pygments_lexer": "ipython3",
   "version": "3.7.6"
  }
 },
 "nbformat": 4,
 "nbformat_minor": 4
}
