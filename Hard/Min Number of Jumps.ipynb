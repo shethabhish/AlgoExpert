{
 "cells": [
  {
   "cell_type": "code",
   "execution_count": 1,
   "metadata": {},
   "outputs": [],
   "source": [
    "def min_number_jumps(arr):\n",
    "    dp = [float(\"inf\")]*len(arr)\n",
    "    dp[0] = 0\n",
    "    for i in range(1,len(arr)):\n",
    "        for j in range(i):\n",
    "            if arr[j]+j >= i:\n",
    "                dp[i] = min(dp[j]+1,dp[i])\n",
    "    return dp[-1]"
   ]
  },
  {
   "cell_type": "code",
   "execution_count": 2,
   "metadata": {},
   "outputs": [
    {
     "data": {
      "text/plain": [
       "4"
      ]
     },
     "execution_count": 2,
     "metadata": {},
     "output_type": "execute_result"
    }
   ],
   "source": [
    "min_number_jumps([3,4,2,1,2,3,7,1,1,1,3])"
   ]
  },
  {
   "cell_type": "code",
   "execution_count": 3,
   "metadata": {},
   "outputs": [],
   "source": [
    "def min_number_jumps(arr):\n",
    "    maxreach,steps = arr[0],arr[0]\n",
    "    count = 0\n",
    "    for i in range(1,len(arr)-1):\n",
    "        maxreach = max(maxreach,arr[i]+i)\n",
    "        steps -=1\n",
    "        if steps == 0:\n",
    "            count += 1\n",
    "            steps = maxreach - i\n",
    "    return count+1"
   ]
  },
  {
   "cell_type": "code",
   "execution_count": 4,
   "metadata": {},
   "outputs": [
    {
     "data": {
      "text/plain": [
       "4"
      ]
     },
     "execution_count": 4,
     "metadata": {},
     "output_type": "execute_result"
    }
   ],
   "source": [
    "min_number_jumps([3,4,2,1,2,3,7,1,1,1,3])"
   ]
  }
 ],
 "metadata": {
  "kernelspec": {
   "display_name": "Python 3",
   "language": "python",
   "name": "python3"
  },
  "language_info": {
   "codemirror_mode": {
    "name": "ipython",
    "version": 3
   },
   "file_extension": ".py",
   "mimetype": "text/x-python",
   "name": "python",
   "nbconvert_exporter": "python",
   "pygments_lexer": "ipython3",
   "version": "3.7.6"
  }
 },
 "nbformat": 4,
 "nbformat_minor": 4
}
