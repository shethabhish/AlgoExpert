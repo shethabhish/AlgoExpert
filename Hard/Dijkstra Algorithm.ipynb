{
 "cells": [
  {
   "cell_type": "code",
   "execution_count": 1,
   "metadata": {},
   "outputs": [],
   "source": [
    "class Graph:\n",
    "    def __init__(self,vertices):\n",
    "        self.v = vertices\n",
    "        self.graph = [[0 for i in range(vertices)] for j in range(vertices)]\n",
    "    def min_distance(self,dist,sptset):\n",
    "        min = float(\"inf\")\n",
    "        for v in range(self.v):\n",
    "            if dist[v] < min and sptset[v] == False:\n",
    "                min = dist[v]\n",
    "                min_index = v\n",
    "        return min_index\n",
    "    def dijkstra(self,src):\n",
    "        dist = [float(\"inf\")]*self.v\n",
    "        dist[src] = 0\n",
    "        sptset = [False]*self.v\n",
    "        for i in range(self.v):\n",
    "            u = self.min_distance(dist,sptset)\n",
    "            sptset[u] = True\n",
    "            for v in range(self.v):\n",
    "                if self.graph[u][v] > 0 and sptset[v] == False and dist[v] > dist[u]+self.graph[u][v]:\n",
    "                    dist[v] = dist[u]+self.graph[u][v]\n",
    "        self.printt(dist)\n",
    "    def printt(self,dist):\n",
    "        for i in range(self.v):\n",
    "            print(i,dist[i])"
   ]
  },
  {
   "cell_type": "code",
   "execution_count": 2,
   "metadata": {},
   "outputs": [
    {
     "name": "stdout",
     "output_type": "stream",
     "text": [
      "0 0\n",
      "1 4\n",
      "2 12\n",
      "3 19\n",
      "4 21\n",
      "5 11\n",
      "6 9\n",
      "7 8\n",
      "8 14\n"
     ]
    }
   ],
   "source": [
    "g = Graph(9) \n",
    "g.graph = [[0, 4, 0, 0, 0, 0, 0, 8, 0], \n",
    "        [4, 0, 8, 0, 0, 0, 0, 11, 0], \n",
    "        [0, 8, 0, 7, 0, 4, 0, 0, 2], \n",
    "        [0, 0, 7, 0, 9, 14, 0, 0, 0], \n",
    "        [0, 0, 0, 9, 0, 10, 0, 0, 0], \n",
    "        [0, 0, 4, 14, 10, 0, 2, 0, 0], \n",
    "        [0, 0, 0, 0, 0, 2, 0, 1, 6], \n",
    "        [8, 11, 0, 0, 0, 0, 1, 0, 7], \n",
    "        [0, 0, 2, 0, 0, 0, 6, 7, 0] \n",
    "        ]\n",
    "  \n",
    "g.dijkstra(0)"
   ]
  }
 ],
 "metadata": {
  "kernelspec": {
   "display_name": "Python 3",
   "language": "python",
   "name": "python3"
  },
  "language_info": {
   "codemirror_mode": {
    "name": "ipython",
    "version": 3
   },
   "file_extension": ".py",
   "mimetype": "text/x-python",
   "name": "python",
   "nbconvert_exporter": "python",
   "pygments_lexer": "ipython3",
   "version": "3.7.6"
  }
 },
 "nbformat": 4,
 "nbformat_minor": 4
}
