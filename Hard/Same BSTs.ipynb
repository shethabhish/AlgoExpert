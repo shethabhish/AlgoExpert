{
 "cells": [
  {
   "cell_type": "code",
   "execution_count": 1,
   "metadata": {},
   "outputs": [],
   "source": [
    "def same_bsts(arr1,arr2):\n",
    "    if len(arr1) != len(arr2):\n",
    "        return False\n",
    "    if len(arr1) == 0 and len(arr2) == 0:\n",
    "        return True\n",
    "    if arr1[0] != arr2[0]:\n",
    "        return False\n",
    "    left1,left2 = get_smaller(arr1),get_smaller(arr2)\n",
    "    right1,right2 = get_larger(arr1),get_larger(arr2)\n",
    "    return same_bsts(left1,left2) and same_bsts(right1,right2)"
   ]
  },
  {
   "cell_type": "code",
   "execution_count": 2,
   "metadata": {},
   "outputs": [],
   "source": [
    "def get_smaller(arr):\n",
    "    smaller = []\n",
    "    for i in range(1,len(arr)):\n",
    "        if arr[i] < arr[0]:\n",
    "            smaller.append(arr[i])\n",
    "    return smaller"
   ]
  },
  {
   "cell_type": "code",
   "execution_count": 3,
   "metadata": {},
   "outputs": [],
   "source": [
    "def get_larger(arr):\n",
    "    bigger = []\n",
    "    for i in range(1,len(arr)):\n",
    "        if arr[i] >= arr[0]:\n",
    "            bigger.append(arr[i])\n",
    "    return bigger"
   ]
  },
  {
   "cell_type": "code",
   "execution_count": 4,
   "metadata": {},
   "outputs": [
    {
     "data": {
      "text/plain": [
       "True"
      ]
     },
     "execution_count": 4,
     "metadata": {},
     "output_type": "execute_result"
    }
   ],
   "source": [
    "same_bsts([10,15,8,12,94,81,5,2,11],[10,8,5,15,2,12,11,94,81])"
   ]
  },
  {
   "cell_type": "code",
   "execution_count": 5,
   "metadata": {},
   "outputs": [],
   "source": [
    "def same_bsts(arr1,arr2):\n",
    "    return are_same(arr1,arr2,0,0,float(\"-inf\"),float(\"inf\"))"
   ]
  },
  {
   "cell_type": "code",
   "execution_count": 6,
   "metadata": {},
   "outputs": [],
   "source": [
    "def are_same(arr1,arr2,start1,start2,minVal,maxVal):\n",
    "    if start1 == -1 or start2 == -1:\n",
    "        return start1 == start2\n",
    "    if arr1[start1] != arr2[start2]:\n",
    "        return False\n",
    "    left1,left2 = get_small(arr1,start1,minVal),get_small(arr2,start2,minVal)\n",
    "    right1,right2 = get_big(arr1,start1,maxVal),get_big(arr1,start2,maxVal)\n",
    "    current = arr1[start1]\n",
    "    left = are_same(arr1,arr2,left1,left2,minVal,current)\n",
    "    right = are_same(arr1,arr2,right1,right2,current,maxVal)\n",
    "    return left and right"
   ]
  },
  {
   "cell_type": "code",
   "execution_count": 7,
   "metadata": {},
   "outputs": [],
   "source": [
    "def get_small(arr,start,minVal):\n",
    "    for i in range(start+1,len(arr)):\n",
    "        if arr[i] < arr[start] >= minVal:\n",
    "            return i\n",
    "    return -1"
   ]
  },
  {
   "cell_type": "code",
   "execution_count": 8,
   "metadata": {},
   "outputs": [],
   "source": [
    "def get_big(arr,start,maxVal):\n",
    "    for i in range(start+1,len(arr)):\n",
    "        if arr[i] >= arr[start] < maxVal:\n",
    "            return i\n",
    "    return -1"
   ]
  }
 ],
 "metadata": {
  "kernelspec": {
   "display_name": "Python 3",
   "language": "python",
   "name": "python3"
  },
  "language_info": {
   "codemirror_mode": {
    "name": "ipython",
    "version": 3
   },
   "file_extension": ".py",
   "mimetype": "text/x-python",
   "name": "python",
   "nbconvert_exporter": "python",
   "pygments_lexer": "ipython3",
   "version": "3.7.6"
  }
 },
 "nbformat": 4,
 "nbformat_minor": 4
}
