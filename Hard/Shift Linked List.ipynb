{
 "cells": [
  {
   "cell_type": "code",
   "execution_count": 1,
   "metadata": {},
   "outputs": [],
   "source": [
    "class Node:\n",
    "    def __init__(self,val):\n",
    "        self.val = val\n",
    "        self.next = None\n",
    "    def print_list(self):\n",
    "        temp = self\n",
    "        while temp:\n",
    "            print(temp.val, end = \" \")\n",
    "            temp = temp.next"
   ]
  },
  {
   "cell_type": "code",
   "execution_count": 2,
   "metadata": {},
   "outputs": [],
   "source": [
    "def shiftLinkedList(head, k):\n",
    "    list_length = 1\n",
    "    lastnode = head\n",
    "    while lastnode.next:\n",
    "        lastnode = lastnode.next\n",
    "        list_length += 1\n",
    "    offset = abs(k)%list_length\n",
    "    if offset == 0:\n",
    "        return head\n",
    "    new_tail_position = list_length - offset if k > 0 else offset\n",
    "    new_tail = head\n",
    "    for i in range(1,new_tail_position):\n",
    "        new_tail = new_tail.next\n",
    "    new_head = new_tail.next\n",
    "    new_tail.next = None\n",
    "    lastnode.next = head\n",
    "    return new_head"
   ]
  },
  {
   "cell_type": "code",
   "execution_count": 3,
   "metadata": {},
   "outputs": [],
   "source": [
    "head = Node(1)\n",
    "head.next = Node(2)\n",
    "head.next.next = Node(3)\n",
    "head.next.next.next = Node(4)\n",
    "head.next.next.next.next = Node(5)\n",
    "head.next.next.next.next.next = Node(6)"
   ]
  },
  {
   "cell_type": "code",
   "execution_count": 4,
   "metadata": {},
   "outputs": [
    {
     "name": "stdout",
     "output_type": "stream",
     "text": [
      "4 5 6 1 2 3 "
     ]
    }
   ],
   "source": [
    "shiftLinkedList(head, 3).print_list()"
   ]
  }
 ],
 "metadata": {
  "kernelspec": {
   "display_name": "Python 3",
   "language": "python",
   "name": "python3"
  },
  "language_info": {
   "codemirror_mode": {
    "name": "ipython",
    "version": 3
   },
   "file_extension": ".py",
   "mimetype": "text/x-python",
   "name": "python",
   "nbconvert_exporter": "python",
   "pygments_lexer": "ipython3",
   "version": "3.7.6"
  }
 },
 "nbformat": 4,
 "nbformat_minor": 4
}
