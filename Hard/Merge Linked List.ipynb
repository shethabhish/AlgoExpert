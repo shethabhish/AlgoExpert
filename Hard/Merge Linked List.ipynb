{
 "cells": [
  {
   "cell_type": "code",
   "execution_count": 1,
   "metadata": {},
   "outputs": [],
   "source": [
    "class Node:\n",
    "    def __init__(self,val):\n",
    "        self.val = val\n",
    "        self.next = None\n",
    "    def print_list(self):\n",
    "        temp = self\n",
    "        while temp:\n",
    "            print(temp.val,end = \" \")\n",
    "            temp = temp.next"
   ]
  },
  {
   "cell_type": "code",
   "execution_count": 2,
   "metadata": {},
   "outputs": [],
   "source": [
    "def merge_linked_lists(head1,head2):\n",
    "    p1,p1prev,p2 = head1,None,head2\n",
    "    while p1 and p2:\n",
    "        if p1.val < p2.val:\n",
    "            p1prev = p1\n",
    "            p1 = p1.next\n",
    "        else:\n",
    "            if p1prev:\n",
    "                p1prev.next = p2\n",
    "            p1prev = p2\n",
    "            p2 = p2.next\n",
    "            p1prev.next = p1\n",
    "    if p1 is None:\n",
    "        p1prev.next = p2\n",
    "    return head1 if head1.val < head2.val else head2"
   ]
  },
  {
   "cell_type": "code",
   "execution_count": 3,
   "metadata": {},
   "outputs": [],
   "source": [
    "head1 = Node(2)\n",
    "head1.next = Node(6)\n",
    "head1.next.next = Node(7)\n",
    "head1.next.next.next = Node(8)"
   ]
  },
  {
   "cell_type": "code",
   "execution_count": 4,
   "metadata": {},
   "outputs": [],
   "source": [
    "head2 = Node(1)\n",
    "head2.next = Node(3)\n",
    "head2.next.next = Node(4)\n",
    "head2.next.next.next = Node(5)\n",
    "head2.next.next.next.next = Node(9)\n",
    "head2.next.next.next.next.next = Node(10)"
   ]
  },
  {
   "cell_type": "code",
   "execution_count": 5,
   "metadata": {},
   "outputs": [
    {
     "name": "stdout",
     "output_type": "stream",
     "text": [
      "1 2 3 4 5 6 7 8 9 10 "
     ]
    }
   ],
   "source": [
    "merge_linked_lists(head1,head2).print_list()"
   ]
  }
 ],
 "metadata": {
  "kernelspec": {
   "display_name": "Python 3",
   "language": "python",
   "name": "python3"
  },
  "language_info": {
   "codemirror_mode": {
    "name": "ipython",
    "version": 3
   },
   "file_extension": ".py",
   "mimetype": "text/x-python",
   "name": "python",
   "nbconvert_exporter": "python",
   "pygments_lexer": "ipython3",
   "version": "3.7.6"
  }
 },
 "nbformat": 4,
 "nbformat_minor": 4
}
