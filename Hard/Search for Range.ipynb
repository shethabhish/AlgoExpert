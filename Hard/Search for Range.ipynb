{
 "cells": [
  {
   "cell_type": "code",
   "execution_count": 1,
   "metadata": {},
   "outputs": [],
   "source": [
    "def search_for_range(arr,target):\n",
    "    result = [-1,-1]\n",
    "    result[0] = binary_search(arr,target,False)\n",
    "    if result[0] != -1:\n",
    "        result[1] = binary_search(arr,target,True)\n",
    "    return result"
   ]
  },
  {
   "cell_type": "code",
   "execution_count": 2,
   "metadata": {},
   "outputs": [],
   "source": [
    "def binary_search(arr,target,findmax):\n",
    "    start,end = 0,len(arr)-1\n",
    "    keyind = -1\n",
    "    while start < end:\n",
    "        mid = start + (end - start)//2\n",
    "        if target < arr[mid]:\n",
    "            end = mid - 1\n",
    "        elif target > arr[mid]:\n",
    "            start = mid + 1\n",
    "        else:\n",
    "            keyind = mid\n",
    "            if findmax:\n",
    "                start = mid+1\n",
    "            else:\n",
    "                end = mid - 1\n",
    "    return keyind"
   ]
  },
  {
   "cell_type": "code",
   "execution_count": 3,
   "metadata": {},
   "outputs": [
    {
     "data": {
      "text/plain": [
       "[4, 9]"
      ]
     },
     "execution_count": 3,
     "metadata": {},
     "output_type": "execute_result"
    }
   ],
   "source": [
    "search_for_range([0,1,21,33,45,45,45,45,45,45,61,71,73],45)"
   ]
  }
 ],
 "metadata": {
  "kernelspec": {
   "display_name": "Python 3",
   "language": "python",
   "name": "python3"
  },
  "language_info": {
   "codemirror_mode": {
    "name": "ipython",
    "version": 3
   },
   "file_extension": ".py",
   "mimetype": "text/x-python",
   "name": "python",
   "nbconvert_exporter": "python",
   "pygments_lexer": "ipython3",
   "version": "3.7.6"
  }
 },
 "nbformat": 4,
 "nbformat_minor": 4
}
