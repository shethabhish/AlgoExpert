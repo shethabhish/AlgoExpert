{
 "cells": [
  {
   "cell_type": "code",
   "execution_count": 1,
   "metadata": {},
   "outputs": [],
   "source": [
    "def knapsack(profits,weights,capacity):\n",
    "    dp = [[0 for i in range(capacity+1)] for j in range(len(profits))]\n",
    "    for i in range(0,len(profits)):\n",
    "        dp[i][0] = 0\n",
    "    for i in range(capacity+1):\n",
    "        if weights[0] <= i:\n",
    "            dp[0][i] = profits[0]\n",
    "    for i in range(1,len(profits)):\n",
    "        for j in range(1,capacity+1):\n",
    "            profit1,profit2 = 0,0\n",
    "            if weights[i] <= j:\n",
    "                profit1 = profits[i] + dp[i-1][j-weights[i]]\n",
    "            profit2 = dp[i-1][j]\n",
    "            dp[i][j] = max(profit1,profit2)\n",
    "    return dp[-1][-1]"
   ]
  },
  {
   "cell_type": "code",
   "execution_count": 2,
   "metadata": {},
   "outputs": [
    {
     "data": {
      "text/plain": [
       "22"
      ]
     },
     "execution_count": 2,
     "metadata": {},
     "output_type": "execute_result"
    }
   ],
   "source": [
    " knapsack([1,6,10,16],[1,2,3,5],7)"
   ]
  }
 ],
 "metadata": {
  "kernelspec": {
   "display_name": "Python 3",
   "language": "python",
   "name": "python3"
  },
  "language_info": {
   "codemirror_mode": {
    "name": "ipython",
    "version": 3
   },
   "file_extension": ".py",
   "mimetype": "text/x-python",
   "name": "python",
   "nbconvert_exporter": "python",
   "pygments_lexer": "ipython3",
   "version": "3.7.6"
  }
 },
 "nbformat": 4,
 "nbformat_minor": 4
}
