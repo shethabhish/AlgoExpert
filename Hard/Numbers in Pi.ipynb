{
 "cells": [
  {
   "cell_type": "code",
   "execution_count": 1,
   "metadata": {},
   "outputs": [],
   "source": [
    "def numbers_in_pi(pi,numbers):\n",
    "    numberstable = {number: True for number in numbers}\n",
    "    cache = {}\n",
    "    for i in reversed(range(len(pi))):\n",
    "        get_min_spaces(pi,numberstable,cache,i)\n",
    "    return -1 if cache[0] == float(\"inf\") else cache[0]"
   ]
  },
  {
   "cell_type": "code",
   "execution_count": 2,
   "metadata": {},
   "outputs": [],
   "source": [
    "def get_min_spaces(pi,numberstable,cache,idx):\n",
    "    if idx == len(pi):\n",
    "        return -1\n",
    "    if idx in cache:\n",
    "        return cache[idx]\n",
    "    minspaces = float(\"inf\")\n",
    "    for i in range(idx,len(pi)):\n",
    "        prefix = pi[idx:i+1]\n",
    "        if prefix in numberstable:\n",
    "            minspacesinsuffix = get_min_spaces(pi,numberstable,cache,i+1)\n",
    "            minspaces = min(minspaces,minspacesinsuffix+1)\n",
    "    cache[idx] = minspaces\n",
    "    return cache[idx]"
   ]
  },
  {
   "cell_type": "code",
   "execution_count": 3,
   "metadata": {},
   "outputs": [
    {
     "data": {
      "text/plain": [
       "2"
      ]
     },
     "execution_count": 3,
     "metadata": {},
     "output_type": "execute_result"
    }
   ],
   "source": [
    "numbers_in_pi(\"3141592\",[\"3141\",\"5\",\"31\",\"2\",\"4159\",\"9\",\"42\"])"
   ]
  }
 ],
 "metadata": {
  "kernelspec": {
   "display_name": "Python 3",
   "language": "python",
   "name": "python3"
  },
  "language_info": {
   "codemirror_mode": {
    "name": "ipython",
    "version": 3
   },
   "file_extension": ".py",
   "mimetype": "text/x-python",
   "name": "python",
   "nbconvert_exporter": "python",
   "pygments_lexer": "ipython3",
   "version": "3.7.6"
  }
 },
 "nbformat": 4,
 "nbformat_minor": 4
}
