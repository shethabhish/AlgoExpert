{
 "cells": [
  {
   "cell_type": "code",
   "execution_count": 1,
   "metadata": {},
   "outputs": [],
   "source": [
    "class Tree:\n",
    "    def __init__(self,val):\n",
    "        self.val = val\n",
    "        self.left = None\n",
    "        self.right = None"
   ]
  },
  {
   "cell_type": "code",
   "execution_count": 2,
   "metadata": {},
   "outputs": [],
   "source": [
    "class maximum_path:\n",
    "    def max_path_sum(self,root):\n",
    "        self.maxsum = 0\n",
    "        self.find_max(root)\n",
    "        return self.maxsum\n",
    "    def find_max(self,root):\n",
    "        if root is None:\n",
    "            return 0\n",
    "        maxsumleft = self.find_max(root.left)\n",
    "        maxsumright = self.find_max(root.right)\n",
    "        maxsumleft = max(maxsumleft,0)\n",
    "        maxsumright = max(maxsumright,0)\n",
    "        currentmax = maxsumleft+maxsumright+root.val\n",
    "        self.maxsum = max(self.maxsum,currentmax)\n",
    "        return max(maxsumleft,maxsumright)+root.val"
   ]
  },
  {
   "cell_type": "code",
   "execution_count": 3,
   "metadata": {},
   "outputs": [],
   "source": [
    "root = Tree(1)\n",
    "root.left = Tree(2)\n",
    "root.right = Tree(3)\n",
    "root.left.left = Tree(1)\n",
    "root.left.right = Tree(3)\n",
    "root.right.left = Tree(5)\n",
    "root.right.right = Tree(6)\n",
    "root.right.left.left = Tree(7)\n",
    "root.right.left.right = Tree(8)\n",
    "root.right.right.left = Tree(9)"
   ]
  },
  {
   "cell_type": "code",
   "execution_count": 4,
   "metadata": {},
   "outputs": [
    {
     "data": {
      "text/plain": [
       "31"
      ]
     },
     "execution_count": 4,
     "metadata": {},
     "output_type": "execute_result"
    }
   ],
   "source": [
    "maxpathsum = maximum_path()\n",
    "maxpathsum.max_path_sum(root)"
   ]
  }
 ],
 "metadata": {
  "kernelspec": {
   "display_name": "Python 3",
   "language": "python",
   "name": "python3"
  },
  "language_info": {
   "codemirror_mode": {
    "name": "ipython",
    "version": 3
   },
   "file_extension": ".py",
   "mimetype": "text/x-python",
   "name": "python",
   "nbconvert_exporter": "python",
   "pygments_lexer": "ipython3",
   "version": "3.7.6"
  }
 },
 "nbformat": 4,
 "nbformat_minor": 4
}
