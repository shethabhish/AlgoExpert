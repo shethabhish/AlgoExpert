{
 "cells": [
  {
   "cell_type": "code",
   "execution_count": 1,
   "metadata": {},
   "outputs": [],
   "source": [
    "class Tree:\n",
    "    def __init__(self,val):\n",
    "        self.val = val\n",
    "        self.left = None\n",
    "        self.right = None"
   ]
  },
  {
   "cell_type": "code",
   "execution_count": 2,
   "metadata": {},
   "outputs": [],
   "source": [
    "class Solution:\n",
    "    def __init__(self):\n",
    "        self.ans = None\n",
    "    def lowest_common_manager(self,root,p,q):\n",
    "        def recurse_tree(root):\n",
    "            if root is None:\n",
    "                return False\n",
    "            left = recurse_tree(root.left)\n",
    "            right = recurse_tree(root.right)\n",
    "            mid = root.val == p or root.val == q\n",
    "            if mid+left+right >= 2:\n",
    "                self.ans = root.val\n",
    "            return mid or left or right\n",
    "        recurse_tree(root)\n",
    "        return self.ans"
   ]
  },
  {
   "cell_type": "code",
   "execution_count": 3,
   "metadata": {},
   "outputs": [],
   "source": [
    "root = Tree('A')\n",
    "root.left = Tree('B')\n",
    "root.right = Tree('C')\n",
    "root.left.left = Tree('D')\n",
    "root.left.right = Tree('E')\n",
    "root.left.left.left = Tree('H')\n",
    "root.left.left.right = Tree('I')\n",
    "root.right.left = Tree('F')\n",
    "root.right.right = Tree('G')"
   ]
  },
  {
   "cell_type": "code",
   "execution_count": 4,
   "metadata": {},
   "outputs": [
    {
     "data": {
      "text/plain": [
       "'B'"
      ]
     },
     "execution_count": 4,
     "metadata": {},
     "output_type": "execute_result"
    }
   ],
   "source": [
    "ans = Solution()\n",
    "ans.lowest_common_manager(root,'E','I')"
   ]
  }
 ],
 "metadata": {
  "kernelspec": {
   "display_name": "Python 3",
   "language": "python",
   "name": "python3"
  },
  "language_info": {
   "codemirror_mode": {
    "name": "ipython",
    "version": 3
   },
   "file_extension": ".py",
   "mimetype": "text/x-python",
   "name": "python",
   "nbconvert_exporter": "python",
   "pygments_lexer": "ipython3",
   "version": "3.7.6"
  }
 },
 "nbformat": 4,
 "nbformat_minor": 4
}
