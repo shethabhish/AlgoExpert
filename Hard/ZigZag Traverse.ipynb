{
 "cells": [
  {
   "cell_type": "code",
   "execution_count": 1,
   "metadata": {},
   "outputs": [],
   "source": [
    "class Tree:\n",
    "    def __init__(self,val):\n",
    "        self.val = val\n",
    "        self.left = None\n",
    "        self.right = None"
   ]
  },
  {
   "cell_type": "code",
   "execution_count": 2,
   "metadata": {},
   "outputs": [],
   "source": [
    "from collections import deque\n",
    "def zigzag(root):\n",
    "    if root is None:\n",
    "        return None\n",
    "    result = []\n",
    "    queue = deque()\n",
    "    queue.append(root)\n",
    "    forward = True\n",
    "    while queue:\n",
    "        current = deque()\n",
    "        for _ in range(len(queue)):\n",
    "            node = queue.popleft()\n",
    "            if forward:\n",
    "                current.append(node.val)\n",
    "            else:\n",
    "                current.appendleft(node.val)\n",
    "            if node.left:\n",
    "                queue.append(node.left)\n",
    "            if node.right:\n",
    "                queue.append(node.right)\n",
    "        result.append(list(current))\n",
    "        forward = not forward\n",
    "    return result"
   ]
  },
  {
   "cell_type": "code",
   "execution_count": 3,
   "metadata": {},
   "outputs": [],
   "source": [
    "root = Tree(12)\n",
    "root.left = Tree(7)\n",
    "root.right = Tree(1)\n",
    "root.left.left = Tree(9)\n",
    "root.right.left = Tree(10)\n",
    "root.right.right = Tree(5)"
   ]
  },
  {
   "cell_type": "code",
   "execution_count": 4,
   "metadata": {},
   "outputs": [
    {
     "data": {
      "text/plain": [
       "[[12], [1, 7], [9, 10, 5]]"
      ]
     },
     "execution_count": 4,
     "metadata": {},
     "output_type": "execute_result"
    }
   ],
   "source": [
    "zigzag(root)"
   ]
  }
 ],
 "metadata": {
  "kernelspec": {
   "display_name": "Python 3",
   "language": "python",
   "name": "python3"
  },
  "language_info": {
   "codemirror_mode": {
    "name": "ipython",
    "version": 3
   },
   "file_extension": ".py",
   "mimetype": "text/x-python",
   "name": "python",
   "nbconvert_exporter": "python",
   "pygments_lexer": "ipython3",
   "version": "3.7.6"
  }
 },
 "nbformat": 4,
 "nbformat_minor": 4
}
