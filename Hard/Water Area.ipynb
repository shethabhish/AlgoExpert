{
 "cells": [
  {
   "cell_type": "code",
   "execution_count": 1,
   "metadata": {},
   "outputs": [],
   "source": [
    "def water_area(heights):\n",
    "    left,right = 0,len(heights)-1\n",
    "    leftmax,rightmax,ans = 0,0,0\n",
    "    while left < right:\n",
    "        if heights[left] < heights[right]:\n",
    "            if heights[left] > leftmax:\n",
    "                leftmax = heights[left]\n",
    "            else:\n",
    "                ans += leftmax-heights[left]\n",
    "            left +=1\n",
    "        else:\n",
    "            if heights[right] > rightmax:\n",
    "                rightmax = heights[right]\n",
    "            else:\n",
    "                ans += rightmax - heights[right]\n",
    "            right -= 1\n",
    "    return ans"
   ]
  },
  {
   "cell_type": "code",
   "execution_count": 2,
   "metadata": {},
   "outputs": [
    {
     "data": {
      "text/plain": [
       "48"
      ]
     },
     "execution_count": 2,
     "metadata": {},
     "output_type": "execute_result"
    }
   ],
   "source": [
    "water_area([0,8,0,0,5,0,0,10,0,0,1,1,0,3])"
   ]
  }
 ],
 "metadata": {
  "kernelspec": {
   "display_name": "Python 3",
   "language": "python",
   "name": "python3"
  },
  "language_info": {
   "codemirror_mode": {
    "name": "ipython",
    "version": 3
   },
   "file_extension": ".py",
   "mimetype": "text/x-python",
   "name": "python",
   "nbconvert_exporter": "python",
   "pygments_lexer": "ipython3",
   "version": "3.7.6"
  }
 },
 "nbformat": 4,
 "nbformat_minor": 4
}
