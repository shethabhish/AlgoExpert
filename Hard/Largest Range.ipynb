{
 "cells": [
  {
   "cell_type": "code",
   "execution_count": 1,
   "metadata": {},
   "outputs": [],
   "source": [
    "def largest_range(arr):\n",
    "    result,longest,nums = [],0,{}\n",
    "    for i in arr:\n",
    "        nums[i] = True\n",
    "    for num in arr:\n",
    "        if not nums[num]:\n",
    "            continue\n",
    "        nums[num] = False\n",
    "        currentlength = 1\n",
    "        left,right = num - 1,num + 1\n",
    "        while left in nums:\n",
    "            nums[left] = False\n",
    "            currentlength += 1\n",
    "            left -= 1\n",
    "        while right in nums:\n",
    "            nums[right] = False\n",
    "            currentlength += 1\n",
    "            right += 1\n",
    "        if currentlength > longest:\n",
    "            longest = currentlength\n",
    "            result = [left+1,right-1]\n",
    "    return result"
   ]
  },
  {
   "cell_type": "code",
   "execution_count": 2,
   "metadata": {},
   "outputs": [
    {
     "data": {
      "text/plain": [
       "[0, 7]"
      ]
     },
     "execution_count": 2,
     "metadata": {},
     "output_type": "execute_result"
    }
   ],
   "source": [
    "largest_range([1,11,3,0,15,5,2,4,10,7,12,6])"
   ]
  }
 ],
 "metadata": {
  "kernelspec": {
   "display_name": "Python 3",
   "language": "python",
   "name": "python3"
  },
  "language_info": {
   "codemirror_mode": {
    "name": "ipython",
    "version": 3
   },
   "file_extension": ".py",
   "mimetype": "text/x-python",
   "name": "python",
   "nbconvert_exporter": "python",
   "pygments_lexer": "ipython3",
   "version": "3.7.6"
  }
 },
 "nbformat": 4,
 "nbformat_minor": 4
}
