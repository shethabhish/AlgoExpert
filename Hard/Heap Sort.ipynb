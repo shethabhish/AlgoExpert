{
 "cells": [
  {
   "cell_type": "code",
   "execution_count": 1,
   "metadata": {},
   "outputs": [],
   "source": [
    "def heap_sort(arr):\n",
    "    for i in range(len(arr)//2,-1,-1):\n",
    "        heapify(arr,len(arr),i)\n",
    "    for i in range(len(arr)-1,0,-1):\n",
    "        arr[i],arr[0] = arr[0],arr[i]\n",
    "        heapify(arr,i,0)\n",
    "    return arr"
   ]
  },
  {
   "cell_type": "code",
   "execution_count": 2,
   "metadata": {},
   "outputs": [],
   "source": [
    "def heapify(arr,n,i):\n",
    "    largest = i\n",
    "    l,r = 2*i+1,2*i+2\n",
    "    if l < n and arr[largest] < arr[l]:\n",
    "        largest = l\n",
    "    if r < n and arr[largest] < arr[r]:\n",
    "        largest = r\n",
    "    if largest != i:\n",
    "        arr[i],arr[largest] = arr[largest],arr[i]\n",
    "        heapify(arr,n,largest)"
   ]
  },
  {
   "cell_type": "code",
   "execution_count": 3,
   "metadata": {},
   "outputs": [],
   "source": [
    "heap_sort([12, 11, 13, 5, 6, 7])"
   ]
  }
 ],
 "metadata": {
  "kernelspec": {
   "display_name": "Python 3",
   "language": "python",
   "name": "python3"
  },
  "language_info": {
   "codemirror_mode": {
    "name": "ipython",
    "version": 3
   },
   "file_extension": ".py",
   "mimetype": "text/x-python",
   "name": "python",
   "nbconvert_exporter": "python",
   "pygments_lexer": "ipython3",
   "version": "3.7.6"
  }
 },
 "nbformat": 4,
 "nbformat_minor": 4
}
