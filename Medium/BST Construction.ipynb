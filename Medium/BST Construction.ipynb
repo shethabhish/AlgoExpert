{
 "cells": [
  {
   "cell_type": "code",
   "execution_count": 1,
   "metadata": {},
   "outputs": [],
   "source": [
    "class Tree:\n",
    "    def __init__(self,val):\n",
    "        self.val = val\n",
    "        self.left = None\n",
    "        self.right = None"
   ]
  },
  {
   "cell_type": "code",
   "execution_count": 2,
   "metadata": {},
   "outputs": [],
   "source": [
    "def insert(node,key):\n",
    "    if node is None:\n",
    "        return Tree(key)\n",
    "    if key < node.val:\n",
    "        node.left = insert(node.left,key)\n",
    "    if key > node.val:\n",
    "        node.right = insert(node.right,key)\n",
    "    return node"
   ]
  },
  {
   "cell_type": "code",
   "execution_count": 3,
   "metadata": {},
   "outputs": [],
   "source": [
    "def min_value(node):\n",
    "    current = node\n",
    "    while current.left:\n",
    "        current = current.left\n",
    "    return current"
   ]
  },
  {
   "cell_type": "code",
   "execution_count": 4,
   "metadata": {},
   "outputs": [],
   "source": [
    "def search(node,key):\n",
    "    if node is None or node.val == key:\n",
    "        return node\n",
    "    if key < node.val:\n",
    "        return search(node.left,key)\n",
    "    return search(node.right,key)"
   ]
  },
  {
   "cell_type": "code",
   "execution_count": 5,
   "metadata": {},
   "outputs": [],
   "source": [
    "def delete(root,key):\n",
    "    if root is None:\n",
    "        return root\n",
    "    if key < root.val:\n",
    "        root.left = delete(root.left,key)\n",
    "    elif key > root.val:\n",
    "        rioot.right = delete(root.right,key)\n",
    "    else:\n",
    "        if root.left is None:\n",
    "            temp = root.right\n",
    "            root.right = None\n",
    "            return temp\n",
    "        elif root.right is None:\n",
    "            temp = root.left\n",
    "            root.left = None\n",
    "            return temp\n",
    "        temp = min_value(root.right)\n",
    "        root.val = temp.val\n",
    "        root.right = delete(root.right,temp.val)\n",
    "    return root"
   ]
  }
 ],
 "metadata": {
  "kernelspec": {
   "display_name": "Python 3",
   "language": "python",
   "name": "python3"
  },
  "language_info": {
   "codemirror_mode": {
    "name": "ipython",
    "version": 3
   },
   "file_extension": ".py",
   "mimetype": "text/x-python",
   "name": "python",
   "nbconvert_exporter": "python",
   "pygments_lexer": "ipython3",
   "version": "3.7.6"
  }
 },
 "nbformat": 4,
 "nbformat_minor": 4
}
