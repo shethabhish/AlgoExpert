{
 "cells": [
  {
   "cell_type": "code",
   "execution_count": 1,
   "metadata": {},
   "outputs": [],
   "source": [
    "class ListNode:\n",
    "    def __init__(self,val):\n",
    "        self.val = val\n",
    "        self.next = None"
   ]
  },
  {
   "cell_type": "code",
   "execution_count": 2,
   "metadata": {},
   "outputs": [],
   "source": [
    "class LinkedList:\n",
    "    def __init__(self,val):\n",
    "        self.size = 0\n",
    "        self.head = ListNode(0)\n",
    "    def get(self,index):\n",
    "        if index < 0 or index >= self.size:\n",
    "            return -1\n",
    "        current = self.head\n",
    "        for _ in range(index+1):\n",
    "            current = current.next\n",
    "        return current.val\n",
    "    def add_at_head(self,val):\n",
    "        self.add_at_index(0,val)\n",
    "    def add_at_tail(self,val):\n",
    "        self.add_at_index(self.size,val)\n",
    "    def add_at_index(self,index,val):\n",
    "        if index > self.size:\n",
    "            return\n",
    "        if index < 0:\n",
    "            index = 0\n",
    "        self.size += 1\n",
    "        pred= self.head\n",
    "        for _ in range(index):\n",
    "            pred = pred.next\n",
    "        to_add = ListNode(val)\n",
    "        to_add.next = pred.next\n",
    "        pred.next = to_add\n",
    "    def delete_at_index(self,index):\n",
    "        if index < 0 or index >= self.size:\n",
    "            return\n",
    "        self.size -= 1\n",
    "        pred = self.head\n",
    "        for _ in range(index):\n",
    "            pred = pred.next\n",
    "        pred.next = pred.next.next"
   ]
  },
  {
   "cell_type": "code",
   "execution_count": null,
   "metadata": {},
   "outputs": [],
   "source": []
  }
 ],
 "metadata": {
  "kernelspec": {
   "display_name": "Python 3",
   "language": "python",
   "name": "python3"
  },
  "language_info": {
   "codemirror_mode": {
    "name": "ipython",
    "version": 3
   },
   "file_extension": ".py",
   "mimetype": "text/x-python",
   "name": "python",
   "nbconvert_exporter": "python",
   "pygments_lexer": "ipython3",
   "version": "3.7.6"
  }
 },
 "nbformat": 4,
 "nbformat_minor": 4
}
