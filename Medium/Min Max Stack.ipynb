{
 "cells": [
  {
   "cell_type": "code",
   "execution_count": 1,
   "metadata": {},
   "outputs": [],
   "source": [
    "class MaxStack:\n",
    "    def __init__(self):\n",
    "        self.stack = []\n",
    "        self.max = []\n",
    "    def push(self,num):\n",
    "        self.stack.append(num)\n",
    "        if self.max == [] or num >= self.max[-1]:\n",
    "            self.max.append(num)\n",
    "    def maxi(self):\n",
    "        if self.max == []:\n",
    "            return None\n",
    "        return self.max[-1]\n",
    "    def pop(self):\n",
    "        if self.stack == []:\n",
    "            return None\n",
    "        temp = self.stack.pop()\n",
    "        if self.max[-1] == temp:\n",
    "            self.max.pop()\n",
    "        return temp"
   ]
  },
  {
   "cell_type": "code",
   "execution_count": 2,
   "metadata": {},
   "outputs": [
    {
     "data": {
      "text/plain": [
       "6"
      ]
     },
     "execution_count": 2,
     "metadata": {},
     "output_type": "execute_result"
    }
   ],
   "source": [
    "st = MaxStack()\n",
    "st.push(1)\n",
    "st.push(3)\n",
    "st.push(2)\n",
    "st.push(6)\n",
    "st.push(4)\n",
    "st.maxi()"
   ]
  },
  {
   "cell_type": "code",
   "execution_count": 3,
   "metadata": {},
   "outputs": [
    {
     "data": {
      "text/plain": [
       "6"
      ]
     },
     "execution_count": 3,
     "metadata": {},
     "output_type": "execute_result"
    }
   ],
   "source": [
    "st.pop()\n",
    "st.pop()"
   ]
  },
  {
   "cell_type": "code",
   "execution_count": 4,
   "metadata": {},
   "outputs": [
    {
     "data": {
      "text/plain": [
       "3"
      ]
     },
     "execution_count": 4,
     "metadata": {},
     "output_type": "execute_result"
    }
   ],
   "source": [
    "st.maxi()"
   ]
  },
  {
   "cell_type": "code",
   "execution_count": 5,
   "metadata": {},
   "outputs": [],
   "source": [
    "class MinStack:\n",
    "    def __init__(self):\n",
    "        self.stack = []\n",
    "        self.min = []\n",
    "    def push(self,x):\n",
    "        self.stack.append(x)\n",
    "        if self.min == [] or x <= self.min[-1]:\n",
    "            self.min.append(x)\n",
    "    def pop(self):\n",
    "        if self.min[-1] == self.stack[-1]:\n",
    "            self.min.pop()\n",
    "        self.stack.pop()\n",
    "    def top(self):\n",
    "        return self.stack[-1]\n",
    "    def mini(self):\n",
    "        return self.min[-1]"
   ]
  },
  {
   "cell_type": "code",
   "execution_count": 6,
   "metadata": {},
   "outputs": [
    {
     "data": {
      "text/plain": [
       "1"
      ]
     },
     "execution_count": 6,
     "metadata": {},
     "output_type": "execute_result"
    }
   ],
   "source": [
    "st = MinStack()\n",
    "st.push(1)\n",
    "st.push(3)\n",
    "st.push(2)\n",
    "st.push(6)\n",
    "st.push(4)\n",
    "st.mini()"
   ]
  }
 ],
 "metadata": {
  "kernelspec": {
   "display_name": "Python 3",
   "language": "python",
   "name": "python3"
  },
  "language_info": {
   "codemirror_mode": {
    "name": "ipython",
    "version": 3
   },
   "file_extension": ".py",
   "mimetype": "text/x-python",
   "name": "python",
   "nbconvert_exporter": "python",
   "pygments_lexer": "ipython3",
   "version": "3.7.6"
  }
 },
 "nbformat": 4,
 "nbformat_minor": 4
}
