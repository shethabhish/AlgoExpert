{
 "cells": [
  {
   "cell_type": "code",
   "execution_count": 4,
   "metadata": {},
   "outputs": [],
   "source": [
    "from heapq import *\n",
    "def smallest_difference(arr1,arr2):\n",
    "    arr1.sort()\n",
    "    arr2.sort()\n",
    "    one,two = 0,0\n",
    "    smallest,current = float(\"inf\"),float(\"inf\")\n",
    "    smallestpair = []\n",
    "    while one < len(arr1) and two < len(arr2):\n",
    "        first,second = arr1[one],arr2[two]\n",
    "        if first < second:\n",
    "            current = second - first\n",
    "            one += 1\n",
    "        elif second < first:\n",
    "            current = first - second\n",
    "            two += 1\n",
    "        else:\n",
    "            return [first,second]\n",
    "        if smallest > current:\n",
    "            smallest = current\n",
    "            smallestpair = [first,second]\n",
    "    return smallestpair"
   ]
  },
  {
   "cell_type": "code",
   "execution_count": 5,
   "metadata": {},
   "outputs": [
    {
     "data": {
      "text/plain": [
       "[28, 26]"
      ]
     },
     "execution_count": 5,
     "metadata": {},
     "output_type": "execute_result"
    }
   ],
   "source": [
    "smallest_difference([-1,5,10,20,28,3],[26,134,135,15,17])"
   ]
  }
 ],
 "metadata": {
  "kernelspec": {
   "display_name": "Python 3",
   "language": "python",
   "name": "python3"
  },
  "language_info": {
   "codemirror_mode": {
    "name": "ipython",
    "version": 3
   },
   "file_extension": ".py",
   "mimetype": "text/x-python",
   "name": "python",
   "nbconvert_exporter": "python",
   "pygments_lexer": "ipython3",
   "version": "3.7.6"
  }
 },
 "nbformat": 4,
 "nbformat_minor": 4
}
