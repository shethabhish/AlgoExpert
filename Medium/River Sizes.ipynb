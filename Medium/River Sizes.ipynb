{
 "cells": [
  {
   "cell_type": "code",
   "execution_count": 1,
   "metadata": {},
   "outputs": [],
   "source": [
    "def river_sizes(matrix):\n",
    "    result = []\n",
    "    visited = [[False for i in range(len(matrix[0]))] for j in range(len(matrix))]\n",
    "    for i in range(len(matrix)):\n",
    "        for j in range(len(matrix[i])):\n",
    "            if not visited[i][j]:\n",
    "                bfs(matrix,visited,result,i,j)\n",
    "    return result"
   ]
  },
  {
   "cell_type": "code",
   "execution_count": 2,
   "metadata": {},
   "outputs": [],
   "source": [
    "def bfs(matrix,visited,result,i,j):\n",
    "    size,nodes = 0,[[i,j]]\n",
    "    while nodes:\n",
    "        i,j = nodes.pop()\n",
    "        if visited[i][j]:\n",
    "            continue\n",
    "        visited[i][j] = True\n",
    "        if matrix[i][j] == 0:\n",
    "            continue\n",
    "        size += 1\n",
    "        unvisited = get_neighbors(matrix,visited,i,j)\n",
    "        for neighbor in unvisited:\n",
    "            nodes.append(neighbor)\n",
    "    if size > 0:\n",
    "        result.append(size)"
   ]
  },
  {
   "cell_type": "code",
   "execution_count": 3,
   "metadata": {},
   "outputs": [],
   "source": [
    "def get_neighbors(matrix,visited,i,j):\n",
    "    unvisited = []\n",
    "    if i > 0 and not visited[i-1][j]:\n",
    "        unvisited.append([i-1,j])\n",
    "    if j > 0 and not visited[i][j-1]:\n",
    "        unvisited.append([i,j-1])\n",
    "    if i < len(matrix)-1 and not visited[i+1][j]:\n",
    "        unvisited.append([i+1,j])\n",
    "    if j < len(matrix[0])-1 and not visited[i][j+1]:\n",
    "        unvisited.append([i,j+1])\n",
    "    return unvisited"
   ]
  },
  {
   "cell_type": "code",
   "execution_count": 4,
   "metadata": {},
   "outputs": [
    {
     "data": {
      "text/plain": [
       "[2, 1, 21, 5, 2, 1]"
      ]
     },
     "execution_count": 4,
     "metadata": {},
     "output_type": "execute_result"
    }
   ],
   "source": [
    "river_sizes([\n",
    "    [1, 0, 0, 1, 0, 1, 0, 0, 1, 1, 1, 0],\n",
    "    [1, 0, 1, 0, 0, 1, 1, 1, 1, 0, 1, 0],\n",
    "    [0, 0, 1, 0, 1, 1, 0, 1, 0, 1, 1, 1],\n",
    "    [1, 0, 1, 0, 1, 1, 0, 0, 0, 1, 0, 0],\n",
    "    [1, 0, 1, 1, 0, 0, 0, 1, 1, 1, 0, 1]\n",
    "  ])"
   ]
  }
 ],
 "metadata": {
  "kernelspec": {
   "display_name": "Python 3",
   "language": "python",
   "name": "python3"
  },
  "language_info": {
   "codemirror_mode": {
    "name": "ipython",
    "version": 3
   },
   "file_extension": ".py",
   "mimetype": "text/x-python",
   "name": "python",
   "nbconvert_exporter": "python",
   "pygments_lexer": "ipython3",
   "version": "3.7.6"
  }
 },
 "nbformat": 4,
 "nbformat_minor": 4
}
