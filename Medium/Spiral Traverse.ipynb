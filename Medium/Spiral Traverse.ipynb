{
 "cells": [
  {
   "cell_type": "code",
   "execution_count": 1,
   "metadata": {},
   "outputs": [],
   "source": [
    "def spiral_traverse(matrix):\n",
    "    result = []\n",
    "    rowstart,rowend,colstart,colend = 0,len(matrix)-1,0,len(matrix[0])-1\n",
    "    while rowstart <= rowend and colstart <= colend:\n",
    "        for i in range(colstart,colend+1):\n",
    "            result.append(matrix[rowstart][i])\n",
    "        rowstart += 1\n",
    "        for i in range(rowstart,rowend+1):\n",
    "            result.append(matrix[i][colend])\n",
    "        colend -= 1\n",
    "        if rowstart <= rowend:\n",
    "            for i in range(colend,colstart-1,-1):\n",
    "                result.append(matrix[rowend][i])\n",
    "            rowend -= 1\n",
    "        if colstart <= colend:\n",
    "            for i in range(rowend,rowstart-1,-1):\n",
    "                result.append(matrix[i][colstart])\n",
    "            colstart += 1\n",
    "    return result"
   ]
  },
  {
   "cell_type": "code",
   "execution_count": 2,
   "metadata": {},
   "outputs": [
    {
     "data": {
      "text/plain": [
       "[1, 2, 3, 6, 9, 8, 7, 4, 5]"
      ]
     },
     "execution_count": 2,
     "metadata": {},
     "output_type": "execute_result"
    }
   ],
   "source": [
    "spiral_traverse([[1,2,3],[4,5,6],[7,8,9]])"
   ]
  }
 ],
 "metadata": {
  "kernelspec": {
   "display_name": "Python 3",
   "language": "python",
   "name": "python3"
  },
  "language_info": {
   "codemirror_mode": {
    "name": "ipython",
    "version": 3
   },
   "file_extension": ".py",
   "mimetype": "text/x-python",
   "name": "python",
   "nbconvert_exporter": "python",
   "pygments_lexer": "ipython3",
   "version": "3.7.6"
  }
 },
 "nbformat": 4,
 "nbformat_minor": 4
}
