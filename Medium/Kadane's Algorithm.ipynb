{
 "cells": [
  {
   "cell_type": "code",
   "execution_count": 1,
   "metadata": {},
   "outputs": [],
   "source": [
    "def kadane_algorithm(arr):\n",
    "    result,currentmax,end = arr[0],arr[0],0\n",
    "    for i in range(1,len(arr)):\n",
    "        currentmax = max(arr[i], arr[i]+currentmax)\n",
    "        if currentmax > result:\n",
    "            result = currentmax\n",
    "            end = i\n",
    "    total = arr[end]\n",
    "    for i in reversed(range(0,end)):\n",
    "        total += arr[i]\n",
    "        if total == result:\n",
    "            return arr[i:end+1]"
   ]
  },
  {
   "cell_type": "code",
   "execution_count": 2,
   "metadata": {},
   "outputs": [
    {
     "data": {
      "text/plain": [
       "[1, 3, -2, 3, 4, 7, 2, -9, 6, 3, 1]"
      ]
     },
     "execution_count": 2,
     "metadata": {},
     "output_type": "execute_result"
    }
   ],
   "source": [
    "kadane_algorithm([3,5,-9,1,3,-2,3,4,7,2,-9,6,3,1,-5,4])"
   ]
  }
 ],
 "metadata": {
  "kernelspec": {
   "display_name": "Python 3",
   "language": "python",
   "name": "python3"
  },
  "language_info": {
   "codemirror_mode": {
    "name": "ipython",
    "version": 3
   },
   "file_extension": ".py",
   "mimetype": "text/x-python",
   "name": "python",
   "nbconvert_exporter": "python",
   "pygments_lexer": "ipython3",
   "version": "3.7.6"
  }
 },
 "nbformat": 4,
 "nbformat_minor": 4
}
