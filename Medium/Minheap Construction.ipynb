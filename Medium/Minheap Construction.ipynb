{
 "cells": [
  {
   "cell_type": "code",
   "execution_count": 1,
   "metadata": {},
   "outputs": [],
   "source": [
    "class Minheap:\n",
    "    def __init__(self):\n",
    "        self.arr = [0]\n",
    "        self.size = 0\n",
    "    def sift_up(self,i):\n",
    "        while i//2 > 0:\n",
    "            if self.arr[i] < self.arr[i//2]:\n",
    "                self.arr[i],self.arr[i//2] = self.arr[i//2],self.arr[i]\n",
    "            i = i//2\n",
    "    def insert(self,k):\n",
    "        self.arr.append(k)\n",
    "        self.size += 1\n",
    "        self.sift_down(self.size)\n",
    "    def sift_down(self,i):\n",
    "        while (i*2) <= self.size:\n",
    "            mc = self.min_child(i)\n",
    "            if self.arr[i] > self.arr[mc]:\n",
    "                self.arr[i],self.arr[mc] = self.arr[mc],self.arr[i]\n",
    "            i = mc\n",
    "    def min_child(self,i):\n",
    "        if (i*2)+1 > self.size:\n",
    "            return i*2\n",
    "        else:\n",
    "            if self.arr[i*2] < self.arr[(i*2)+1]:\n",
    "                return i*2\n",
    "            else:\n",
    "                return (i*2)+1\n",
    "    def delete_min(self):\n",
    "        if len(self.arr) == 1:\n",
    "            return 'Empty Heap'\n",
    "        root = self.arr[1]\n",
    "        self.arr[1] = self.arr[self.size]\n",
    "        self.arr.pop()\n",
    "        self.size -= 1\n",
    "        self.sift_down(1)\n",
    "        return root"
   ]
  },
  {
   "cell_type": "code",
   "execution_count": 2,
   "metadata": {},
   "outputs": [
    {
     "data": {
      "text/plain": [
       "5"
      ]
     },
     "execution_count": 2,
     "metadata": {},
     "output_type": "execute_result"
    }
   ],
   "source": [
    "my_heap = Minheap()\n",
    "my_heap.insert(5)\n",
    "my_heap.insert(6)\n",
    "my_heap.insert(7)\n",
    "my_heap.insert(9)\n",
    "my_heap.insert(13)\n",
    "my_heap.insert(11)\n",
    "my_heap.insert(10)\n",
    "my_heap.delete_min()"
   ]
  }
 ],
 "metadata": {
  "kernelspec": {
   "display_name": "Python 3",
   "language": "python",
   "name": "python3"
  },
  "language_info": {
   "codemirror_mode": {
    "name": "ipython",
    "version": 3
   },
   "file_extension": ".py",
   "mimetype": "text/x-python",
   "name": "python",
   "nbconvert_exporter": "python",
   "pygments_lexer": "ipython3",
   "version": "3.7.6"
  }
 },
 "nbformat": 4,
 "nbformat_minor": 4
}
