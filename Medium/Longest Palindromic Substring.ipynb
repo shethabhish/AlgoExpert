{
 "cells": [
  {
   "cell_type": "code",
   "execution_count": 1,
   "metadata": {},
   "outputs": [],
   "source": [
    "def longest_palindromic_substring(s):\n",
    "    if len(s) == 0 or len(s) < 1:\n",
    "        return \"\"\n",
    "    start,end = 0,0\n",
    "    for i in range(len(s)):\n",
    "        len1,len2 = expand(s,i,i),expand(s,i,i+1)\n",
    "        maxi = max(len1,len2)\n",
    "        if maxi > end - start:\n",
    "            start = i - ((maxi-1)//2)\n",
    "            end = i + maxi//2\n",
    "    return s[start:end+1]"
   ]
  },
  {
   "cell_type": "code",
   "execution_count": 2,
   "metadata": {},
   "outputs": [],
   "source": [
    "def expand(s,left,right):\n",
    "    if len(s) == 0 or left > right:\n",
    "        return \"\"\n",
    "    while left >=0 and right < len(s) and s[left] == s[right]:\n",
    "        left -= 1\n",
    "        right += 1\n",
    "    return right-left-1"
   ]
  },
  {
   "cell_type": "code",
   "execution_count": 3,
   "metadata": {},
   "outputs": [
    {
     "data": {
      "text/plain": [
       "'aba'"
      ]
     },
     "execution_count": 3,
     "metadata": {},
     "output_type": "execute_result"
    }
   ],
   "source": [
    "longest_palindromic_substring(\"babad\")"
   ]
  }
 ],
 "metadata": {
  "kernelspec": {
   "display_name": "Python 3",
   "language": "python",
   "name": "python3"
  },
  "language_info": {
   "codemirror_mode": {
    "name": "ipython",
    "version": 3
   },
   "file_extension": ".py",
   "mimetype": "text/x-python",
   "name": "python",
   "nbconvert_exporter": "python",
   "pygments_lexer": "ipython3",
   "version": "3.7.6"
  }
 },
 "nbformat": 4,
 "nbformat_minor": 4
}
