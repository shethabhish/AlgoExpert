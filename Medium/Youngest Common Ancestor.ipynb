{
 "cells": [
  {
   "cell_type": "code",
   "execution_count": 1,
   "metadata": {},
   "outputs": [],
   "source": [
    "def youngest_common_ancestors(topAncestor,descendentOne,descendentTwo):\n",
    "    depthOne = get_depth(descendentOne,topAncestor)\n",
    "    depthTwo = get_depth(descendentTwo,topAncestor)\n",
    "    if depthOne > depthTwo:\n",
    "        return get_ancestor(descendentOne,descendentTwo,depthOne-depthTwo)\n",
    "    else:\n",
    "        return get_ancestor(descendentTwo,descendentOne,depthTwo-depthOne)        "
   ]
  },
  {
   "cell_type": "code",
   "execution_count": 2,
   "metadata": {},
   "outputs": [],
   "source": [
    "def get_depth(descendent,topAncestor):\n",
    "    depth = 0\n",
    "    while descendent != topAncestor:\n",
    "        depth += 1\n",
    "        descendent = descendent.ancestor\n",
    "    return depth"
   ]
  },
  {
   "cell_type": "code",
   "execution_count": 3,
   "metadata": {},
   "outputs": [],
   "source": [
    "def get_ancestor(lowerDescendant,higherDescendant,diff):\n",
    "    while diff > 0:\n",
    "        lowerDescendant = lowerDescendant,ancestor\n",
    "        diff -= 1\n",
    "    while lowerDescendant != higherDescendant:\n",
    "        lowerDescendant = lowerDescendant.ancestor\n",
    "        higherDescendant = higherDescendant.ancestor\n",
    "    return lowerDescendant"
   ]
  }
 ],
 "metadata": {
  "kernelspec": {
   "display_name": "Python 3",
   "language": "python",
   "name": "python3"
  },
  "language_info": {
   "codemirror_mode": {
    "name": "ipython",
    "version": 3
   },
   "file_extension": ".py",
   "mimetype": "text/x-python",
   "name": "python",
   "nbconvert_exporter": "python",
   "pygments_lexer": "ipython3",
   "version": "3.7.6"
  }
 },
 "nbformat": 4,
 "nbformat_minor": 4
}
