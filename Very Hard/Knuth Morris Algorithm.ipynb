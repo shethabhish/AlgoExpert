{
 "cells": [
  {
   "cell_type": "code",
   "execution_count": 1,
   "metadata": {},
   "outputs": [],
   "source": [
    "def string_matching(s,find):\n",
    "    if len(s) == 0 or len(find) == 0 or len(find) > len(s):\n",
    "        return False\n",
    "    end = len(find)\n",
    "    diff = len(s)-len(find)\n",
    "    for i in range(0,len(s)-diff):\n",
    "        if s[i:end+i] == find:\n",
    "            return True\n",
    "    return False"
   ]
  },
  {
   "cell_type": "code",
   "execution_count": 2,
   "metadata": {},
   "outputs": [],
   "source": [
    "string_matching(\"aefaefaefaedaefaedaefaefa\",\"aefaedaefaefa\")"
   ]
  },
  {
   "cell_type": "code",
   "execution_count": 3,
   "metadata": {},
   "outputs": [],
   "source": [
    "def knuth_morris_algorithm(s,pattern):\n",
    "    m,n = len(pattern),len(s)\n",
    "    lps = [0]*m\n",
    "    j = 0\n",
    "    compute_lps(pattern,m,lps)\n",
    "    i = 0\n",
    "    while i < n:\n",
    "        if pattern[j] == s[i]:\n",
    "            i += 1\n",
    "            j += 1\n",
    "        if j == m:\n",
    "            j = lps[j-1]\n",
    "            return True\n",
    "        elif i < n and pattern[j] != s[i]:\n",
    "            if j != 0:\n",
    "                j = lps[j-1]\n",
    "            else:\n",
    "                i += 1\n",
    "    return False"
   ]
  },
  {
   "cell_type": "code",
   "execution_count": 4,
   "metadata": {},
   "outputs": [],
   "source": [
    "def compute_lps(pat,m,lps):\n",
    "    i = 1\n",
    "    leng = 0\n",
    "    while i < m:\n",
    "        if pat[i] == pat[leng]:\n",
    "            leng += 1\n",
    "            lps[i] = leng\n",
    "            i += 1\n",
    "        else:\n",
    "            if leng != 0:\n",
    "                leng = lps[leng-1]\n",
    "            else:\n",
    "                lps[i] = 0\n",
    "                i += 1"
   ]
  },
  {
   "cell_type": "code",
   "execution_count": 5,
   "metadata": {},
   "outputs": [
    {
     "data": {
      "text/plain": [
       "True"
      ]
     },
     "execution_count": 5,
     "metadata": {},
     "output_type": "execute_result"
    }
   ],
   "source": [
    "knuth_morris_algorithm(\"aefaefaefaedaefaedaefaefa\",\"aefaedaefaefa\")"
   ]
  }
 ],
 "metadata": {
  "kernelspec": {
   "display_name": "Python 3",
   "language": "python",
   "name": "python3"
  },
  "language_info": {
   "codemirror_mode": {
    "name": "ipython",
    "version": 3
   },
   "file_extension": ".py",
   "mimetype": "text/x-python",
   "name": "python",
   "nbconvert_exporter": "python",
   "pygments_lexer": "ipython3",
   "version": "3.7.6"
  }
 },
 "nbformat": 4,
 "nbformat_minor": 4
}
