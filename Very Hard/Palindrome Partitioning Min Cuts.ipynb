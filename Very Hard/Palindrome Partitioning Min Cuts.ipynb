{
 "cells": [
  {
   "cell_type": "code",
   "execution_count": 1,
   "metadata": {},
   "outputs": [],
   "source": [
    "def palindrome_partitioning(s):\n",
    "    dp = [[False for i in range(len(s))] for j in range(len(s))]\n",
    "    for i in range(len(s)):\n",
    "        dp[i][i] = True\n",
    "    for i in range(2,len(s)+1):\n",
    "        for j in range(0,len(s)-i+1):\n",
    "            k = j + i - 1\n",
    "            if i == 2:\n",
    "                dp[j][k] = s[j] == s[k]\n",
    "            else:\n",
    "                dp[j][k] = s[j] == s[k] and dp[j+1][k-1]\n",
    "    cuts = [float(\"inf\") for i in range(len(s))]\n",
    "    for i in range(len(s)):\n",
    "        if dp[0][i]:\n",
    "            cuts[i] = 0\n",
    "        else:\n",
    "            cuts[i] = cuts[i-1]+1\n",
    "            for j in range(1,i):\n",
    "                if dp[j][i] and cuts[j-1]+1 < cuts[i]:\n",
    "                    cuts[i] = cuts[j-1]+1\n",
    "    return cuts[-1]"
   ]
  },
  {
   "cell_type": "code",
   "execution_count": 2,
   "metadata": {},
   "outputs": [],
   "source": [
    "def palindrome(s):\n",
    "    return s == s[::-1]"
   ]
  },
  {
   "cell_type": "code",
   "execution_count": 3,
   "metadata": {},
   "outputs": [
    {
     "data": {
      "text/plain": [
       "2"
      ]
     },
     "execution_count": 3,
     "metadata": {},
     "output_type": "execute_result"
    }
   ],
   "source": [
    "palindrome_partitioning(\"noonabbad\")"
   ]
  }
 ],
 "metadata": {
  "kernelspec": {
   "display_name": "Python 3",
   "language": "python",
   "name": "python3"
  },
  "language_info": {
   "codemirror_mode": {
    "name": "ipython",
    "version": 3
   },
   "file_extension": ".py",
   "mimetype": "text/x-python",
   "name": "python",
   "nbconvert_exporter": "python",
   "pygments_lexer": "ipython3",
   "version": "3.7.6"
  }
 },
 "nbformat": 4,
 "nbformat_minor": 4
}
