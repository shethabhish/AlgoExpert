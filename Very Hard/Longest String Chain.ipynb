{
 "cells": [
  {
   "cell_type": "code",
   "execution_count": 1,
   "metadata": {},
   "outputs": [],
   "source": [
    "def longest_string_chain(strings):\n",
    "    stringChains = {}\n",
    "    for string in strings:\n",
    "        stringChains[string] = {\"next\": \"\",\"length\": 1}\n",
    "    sortedStrings = sorted(strings,key=len)\n",
    "    for string in sortedStrings:\n",
    "        find_longest(string,stringChains)\n",
    "    return build_longest_string_chains(strings,stringChains)"
   ]
  },
  {
   "cell_type": "code",
   "execution_count": 2,
   "metadata": {},
   "outputs": [],
   "source": [
    "def find_longest(string,stringChains):\n",
    "     for i in range(len(string)):\n",
    "            smaller = get_smaller(string,i)\n",
    "            if smaller not in stringChains:\n",
    "                continue\n",
    "            update(string,stringChains,smaller)"
   ]
  },
  {
   "cell_type": "code",
   "execution_count": 3,
   "metadata": {},
   "outputs": [],
   "source": [
    "def get_smaller(string,i):\n",
    "    return string[:i]+string[i+1:]"
   ]
  },
  {
   "cell_type": "code",
   "execution_count": 4,
   "metadata": {},
   "outputs": [],
   "source": [
    "def update(string,stringChains,smaller):\n",
    "    leng = stringChains[smaller][\"length\"]\n",
    "    current = stringChains[string][\"length\"]\n",
    "    if leng+1 > current:\n",
    "        stringChains[string][\"length\"] = leng+1        \n",
    "        stringChains[string][\"next\"] = smaller"
   ]
  },
  {
   "cell_type": "code",
   "execution_count": 5,
   "metadata": {},
   "outputs": [],
   "source": [
    "def build_longest_string_chains(strings,stringChains):\n",
    "    length = 0\n",
    "    chainstart = \"\"\n",
    "    for string in strings:\n",
    "        if stringChains[string][\"length\"] > length:\n",
    "            length = stringChains[string][\"length\"]\n",
    "            chainstart = string\n",
    "    longest = []\n",
    "    current = chainstart\n",
    "    while current != \"\":\n",
    "        longest.append(current)\n",
    "        current = stringChains[current][\"next\"]\n",
    "    return [] if len(longest) == 1 else longest"
   ]
  },
  {
   "cell_type": "code",
   "execution_count": 6,
   "metadata": {},
   "outputs": [
    {
     "data": {
      "text/plain": [
       "['abcdef', 'abcde', 'abde', 'ade', 'ae']"
      ]
     },
     "execution_count": 6,
     "metadata": {},
     "output_type": "execute_result"
    }
   ],
   "source": [
    "longest_string_chain([\"abde\",\"abc\",\"abd\",\"abcde\",\"ade\",\"ae\",\"1abde\",\"abcdef\"])"
   ]
  }
 ],
 "metadata": {
  "kernelspec": {
   "display_name": "Python 3",
   "language": "python",
   "name": "python3"
  },
  "language_info": {
   "codemirror_mode": {
    "name": "ipython",
    "version": 3
   },
   "file_extension": ".py",
   "mimetype": "text/x-python",
   "name": "python",
   "nbconvert_exporter": "python",
   "pygments_lexer": "ipython3",
   "version": "3.7.6"
  }
 },
 "nbformat": 4,
 "nbformat_minor": 4
}
