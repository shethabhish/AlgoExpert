{
 "cells": [
  {
   "cell_type": "code",
   "execution_count": 1,
   "metadata": {},
   "outputs": [],
   "source": [
    "def smallest_substring(s,pattern):\n",
    "    freq = {}\n",
    "    windowstart,match,substr_start,mini = 0,0,0,len(s)+1\n",
    "    for i in pattern:\n",
    "        if i not in freq:\n",
    "            freq[i] = 0\n",
    "        freq[i] += 1\n",
    "    for windowend in range(len(s)):\n",
    "        right = s[windowend]\n",
    "        if right in freq:\n",
    "            freq[right] -= 1\n",
    "            if freq[right] >= 0:\n",
    "                match += 1\n",
    "        while match == len(pattern):\n",
    "            if mini > windowend - windowstart + 1:\n",
    "                mini = windowend - windowstart + 1\n",
    "                substr_start = windowstart\n",
    "            left = s[windowstart]\n",
    "            windowstart += 1\n",
    "            if left in freq:\n",
    "                if freq[left] == 0:\n",
    "                    match -= 1\n",
    "                freq[left] += 1\n",
    "    if mini > len(s):\n",
    "        return \"\"\n",
    "    return s[substr_start:substr_start+mini]"
   ]
  },
  {
   "cell_type": "code",
   "execution_count": 2,
   "metadata": {},
   "outputs": [
    {
     "data": {
      "text/plain": [
       "'f$axb$'"
      ]
     },
     "execution_count": 2,
     "metadata": {},
     "output_type": "execute_result"
    }
   ],
   "source": [
    "smallest_substring(\"abcd$ef$axb$c$\",'$$abf')"
   ]
  }
 ],
 "metadata": {
  "kernelspec": {
   "display_name": "Python 3",
   "language": "python",
   "name": "python3"
  },
  "language_info": {
   "codemirror_mode": {
    "name": "ipython",
    "version": 3
   },
   "file_extension": ".py",
   "mimetype": "text/x-python",
   "name": "python",
   "nbconvert_exporter": "python",
   "pygments_lexer": "ipython3",
   "version": "3.7.6"
  }
 },
 "nbformat": 4,
 "nbformat_minor": 4
}
