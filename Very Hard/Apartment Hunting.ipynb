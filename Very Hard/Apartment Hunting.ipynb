{
 "cells": [
  {
   "cell_type": "code",
   "execution_count": 1,
   "metadata": {},
   "outputs": [],
   "source": [
    "def apartment_hunting(blocks,reqs):\n",
    "    mindistances = list(map(lambda req: get_min_distance(blocks,reqs),reqs))\n",
    "    maxdistances = get_max_distance(blocks,mindistances)\n",
    "    return get_index(maxdistances)"
   ]
  },
  {
   "cell_type": "code",
   "execution_count": 2,
   "metadata": {},
   "outputs": [],
   "source": [
    "def get_min_distance(blocks,req):\n",
    "    mindistances = [0 for i in blocks]\n",
    "    closest = float(\"inf\")\n",
    "    for i in range(len(blocks)):\n",
    "        if blocks[i][req]:\n",
    "            closest = i\n",
    "        mindistances[i] = distance_between(i,closest)\n",
    "    for i in reversed(range(len(blocks))):\n",
    "        if blocks[i][req]:\n",
    "            closest = i\n",
    "        mindistances[i] = min(mindisances[i],distance_between(i,closest))\n",
    "    return mindistances"
   ]
  },
  {
   "cell_type": "code",
   "execution_count": 3,
   "metadata": {},
   "outputs": [],
   "source": [
    "def get_max_distance(blocks,mindistances):\n",
    "    maxdistances = [0 for i in blocks]\n",
    "    for i in range(len(blocks)):\n",
    "        mindistance = list(map(lambda distances: distances[i],mindistances))\n",
    "        maxdistances[i] = max(mindistances)\n",
    "    return maxdistances "
   ]
  },
  {
   "cell_type": "code",
   "execution_count": 4,
   "metadata": {},
   "outputs": [],
   "source": [
    "def get_index(arr):\n",
    "    index = 0 \n",
    "    minval = float(\"inf\")\n",
    "    for i in range(len(arr)):\n",
    "        current = arr[i]\n",
    "        if current < minval:\n",
    "            minval = current\n",
    "            index = i\n",
    "    return index"
   ]
  },
  {
   "cell_type": "code",
   "execution_count": 5,
   "metadata": {},
   "outputs": [],
   "source": [
    "def distance_between(a,b):\n",
    "    return abs(a-b)"
   ]
  }
 ],
 "metadata": {
  "kernelspec": {
   "display_name": "Python 3",
   "language": "python",
   "name": "python3"
  },
  "language_info": {
   "codemirror_mode": {
    "name": "ipython",
    "version": 3
   },
   "file_extension": ".py",
   "mimetype": "text/x-python",
   "name": "python",
   "nbconvert_exporter": "python",
   "pygments_lexer": "ipython3",
   "version": "3.7.6"
  }
 },
 "nbformat": 4,
 "nbformat_minor": 4
}
