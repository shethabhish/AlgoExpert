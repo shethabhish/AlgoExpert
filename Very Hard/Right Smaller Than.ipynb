{
 "cells": [
  {
   "cell_type": "code",
   "execution_count": 1,
   "metadata": {},
   "outputs": [],
   "source": [
    "class Tree:\n",
    "    def __init__(self,val):\n",
    "        self.val = val\n",
    "        self.left = None\n",
    "        self.right = None\n",
    "        self.count = 1\n",
    "        return"
   ]
  },
  {
   "cell_type": "code",
   "execution_count": 2,
   "metadata": {},
   "outputs": [],
   "source": [
    "def right_smaller_than(nums):\n",
    "    root,counts = None,[0]*len(nums)\n",
    "    for i in range(len(nums)-1,-1,-1):\n",
    "        if root is None:\n",
    "            root = Tree(nums[i])\n",
    "            continue\n",
    "        counts[i] = insert(root,nums[i])\n",
    "    return counts"
   ]
  },
  {
   "cell_type": "code",
   "execution_count": 3,
   "metadata": {},
   "outputs": [],
   "source": [
    "def insert(root,val):\n",
    "    count = 0\n",
    "    while True:\n",
    "        if val <= root.val:\n",
    "            root.count = root.count+1\n",
    "            if root.left is None:\n",
    "                root.left = Tree(val)\n",
    "                break\n",
    "            else:\n",
    "                root = root.left\n",
    "        else:\n",
    "            count = count+root.count\n",
    "            if root.right is None:\n",
    "                root.right = Tree(val)\n",
    "                break\n",
    "            else:\n",
    "                root = root.right\n",
    "    return count"
   ]
  },
  {
   "cell_type": "code",
   "execution_count": 4,
   "metadata": {},
   "outputs": [
    {
     "data": {
      "text/plain": [
       "[2, 1, 1, 0]"
      ]
     },
     "execution_count": 4,
     "metadata": {},
     "output_type": "execute_result"
    }
   ],
   "source": [
    "right_smaller_than([5,2,6,1])"
   ]
  }
 ],
 "metadata": {
  "kernelspec": {
   "display_name": "Python 3",
   "language": "python",
   "name": "python3"
  },
  "language_info": {
   "codemirror_mode": {
    "name": "ipython",
    "version": 3
   },
   "file_extension": ".py",
   "mimetype": "text/x-python",
   "name": "python",
   "nbconvert_exporter": "python",
   "pygments_lexer": "ipython3",
   "version": "3.7.6"
  }
 },
 "nbformat": 4,
 "nbformat_minor": 4
}
