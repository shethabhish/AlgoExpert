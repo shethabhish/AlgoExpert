{
 "cells": [
  {
   "cell_type": "code",
   "execution_count": 1,
   "metadata": {},
   "outputs": [],
   "source": [
    "from collections import OrderedDict\n",
    "class LRU:\n",
    "    def __init__(self,capacity):\n",
    "        self.capacity = capacity\n",
    "        self.dict = OrderedDict()\n",
    "    def get(self,key):\n",
    "        if key not in self.dict:\n",
    "            return -1\n",
    "        self.dict.move_to_end(key)\n",
    "        return self.dict[key]\n",
    "    def put(self,key,value):\n",
    "        if key in self.dict:\n",
    "            self.dict.move_to_end(key)\n",
    "        self.dict[key] = value\n",
    "        if len(self.dict) > self.capacity:\n",
    "            self.dict.popitem(last=False)"
   ]
  },
  {
   "cell_type": "code",
   "execution_count": 2,
   "metadata": {},
   "outputs": [
    {
     "data": {
      "text/plain": [
       "1"
      ]
     },
     "execution_count": 2,
     "metadata": {},
     "output_type": "execute_result"
    }
   ],
   "source": [
    "lru = LRU(2)\n",
    "lru.put(1,1)\n",
    "lru.put(2,2)\n",
    "lru.get(1)"
   ]
  }
 ],
 "metadata": {
  "kernelspec": {
   "display_name": "Python 3",
   "language": "python",
   "name": "python3"
  },
  "language_info": {
   "codemirror_mode": {
    "name": "ipython",
    "version": 3
   },
   "file_extension": ".py",
   "mimetype": "text/x-python",
   "name": "python",
   "nbconvert_exporter": "python",
   "pygments_lexer": "ipython3",
   "version": "3.7.6"
  }
 },
 "nbformat": 4,
 "nbformat_minor": 4
}
