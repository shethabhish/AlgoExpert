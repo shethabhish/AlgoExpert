{
 "cells": [
  {
   "cell_type": "code",
   "execution_count": 1,
   "metadata": {},
   "outputs": [],
   "source": [
    "def calendar_marching(schedule1,time1,schedule2,time2):\n",
    "    free1,free2 = [],[]\n",
    "    entry_check(time1,schedule1,free1)\n",
    "    entry_check(time2,schedule2,free2)\n",
    "    check_gaps(schedule1,free1,time1)\n",
    "    check_gaps(schedule2,free2,time2)\n",
    "    i,j = 0,0\n",
    "    return interval_intersection(free1,free2)"
   ]
  },
  {
   "cell_type": "code",
   "execution_count": 2,
   "metadata": {},
   "outputs": [],
   "source": [
    "def entry_check(time,schedule,free):\n",
    "    if time[0] < schedule[0][0]:\n",
    "        free.append([time[0],schedule[0][0]])"
   ]
  },
  {
   "cell_type": "code",
   "execution_count": 3,
   "metadata": {},
   "outputs": [],
   "source": [
    "def check_gaps(schedule,free,time):\n",
    "    for i in range(1,len(schedule)):\n",
    "        if schedule[i-1][1] < schedule[i][0]:\n",
    "            free.append([schedule[i-1][1],schedule[i][0]])\n",
    "    if schedule[-1][1] < time[1]:\n",
    "        free.append([schedule[-1][1],time[1]])"
   ]
  },
  {
   "cell_type": "code",
   "execution_count": 4,
   "metadata": {},
   "outputs": [],
   "source": [
    "def interval_intersection(arr1,arr2):\n",
    "    result = []\n",
    "    i,j = 0,0\n",
    "    while i < len(arr1) and j < len(arr2):\n",
    "        aoverlapb = arr1[i][0] >= arr2[j][0] and arr1[i][0] <= arr2[j][1]\n",
    "        boverlapa = arr2[j][0] >= arr1[i][0] and arr2[j][0] <= arr1[i][1]\n",
    "        if aoverlapb or boverlapa:\n",
    "            result.append([max(arr1[i][0],arr2[j][0]),min(arr1[i][1],arr2[j][1])])\n",
    "        if arr1[i][1] < arr2[j][1]:\n",
    "            i += 1\n",
    "        else:\n",
    "            j += 1\n",
    "    return result"
   ]
  },
  {
   "cell_type": "code",
   "execution_count": 5,
   "metadata": {},
   "outputs": [
    {
     "data": {
      "text/plain": [
       "[[1130, 1200], [1500, 1600], [1800, 1830]]"
      ]
     },
     "execution_count": 5,
     "metadata": {},
     "output_type": "execute_result"
    }
   ],
   "source": [
    "calendar_marching([[900,1030],[1200,1300],[1600,1800]],[900,2000],[[1000,1130],[1230,1430],[1430,1500],[1600,1700]],[1000,1830])"
   ]
  }
 ],
 "metadata": {
  "kernelspec": {
   "display_name": "Python 3",
   "language": "python",
   "name": "python3"
  },
  "language_info": {
   "codemirror_mode": {
    "name": "ipython",
    "version": 3
   },
   "file_extension": ".py",
   "mimetype": "text/x-python",
   "name": "python",
   "nbconvert_exporter": "python",
   "pygments_lexer": "ipython3",
   "version": "3.7.6"
  }
 },
 "nbformat": 4,
 "nbformat_minor": 4
}
