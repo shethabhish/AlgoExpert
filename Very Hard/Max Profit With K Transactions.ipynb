{
 "cells": [
  {
   "cell_type": "code",
   "execution_count": 1,
   "metadata": {},
   "outputs": [],
   "source": [
    "def max_profit_k_transactions(prices,k):\n",
    "    if not len(prices):\n",
    "        return 0\n",
    "    dp = [[0 for i in range(len(prices))] for j in range(k+1)]\n",
    "    for i in range(1,k+1):\n",
    "        maxi = float(\"-inf\")\n",
    "        for j in range(1,len(prices)):\n",
    "            maxi = max(maxi,dp[i-1][j-1]-prices[j-1])\n",
    "            dp[i][j] = max(dp[i][j-1],maxi+prices[j])\n",
    "    return dp[-1][-1]"
   ]
  },
  {
   "cell_type": "code",
   "execution_count": 2,
   "metadata": {},
   "outputs": [
    {
     "data": {
      "text/plain": [
       "93"
      ]
     },
     "execution_count": 2,
     "metadata": {},
     "output_type": "execute_result"
    }
   ],
   "source": [
    "max_profit_k_transactions([5, 11, 3, 50, 60, 90],2)"
   ]
  }
 ],
 "metadata": {
  "kernelspec": {
   "display_name": "Python 3",
   "language": "python",
   "name": "python3"
  },
  "language_info": {
   "codemirror_mode": {
    "name": "ipython",
    "version": 3
   },
   "file_extension": ".py",
   "mimetype": "text/x-python",
   "name": "python",
   "nbconvert_exporter": "python",
   "pygments_lexer": "ipython3",
   "version": "3.7.6"
  }
 },
 "nbformat": 4,
 "nbformat_minor": 4
}
