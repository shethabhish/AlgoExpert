{
 "cells": [
  {
   "cell_type": "code",
   "execution_count": 1,
   "metadata": {},
   "outputs": [],
   "source": [
    "def merge_sort(arr):\n",
    "    if len(arr) == 0:\n",
    "        return arr\n",
    "    mergeSort(arr,0,len(arr)-1)\n",
    "    return arr"
   ]
  },
  {
   "cell_type": "code",
   "execution_count": 2,
   "metadata": {},
   "outputs": [],
   "source": [
    "def mergeSort(arr,start,end):\n",
    "    if start >= end:\n",
    "        return\n",
    "    mid = start + (end-start)//2\n",
    "    mergeSort(arr,start,mid)\n",
    "    mergeSort(arr,mid+1,end)\n",
    "    merge(arr,start,mid,end)"
   ]
  },
  {
   "cell_type": "code",
   "execution_count": 3,
   "metadata": {},
   "outputs": [],
   "source": [
    "def merge(arr,start,mid,end):\n",
    "    result = [0]*(end-start+1)\n",
    "    i,j,index = start,mid+1,0\n",
    "    while i <= mid and j <= end:\n",
    "        if arr[i] <= arr[j]:\n",
    "            result[index] = arr[i]\n",
    "            i += 1\n",
    "        else:\n",
    "            result[index] = arr[j]\n",
    "            j += 1\n",
    "        index += 1\n",
    "    while i <= mid:\n",
    "        result[index] = arr[i]\n",
    "        i += 1\n",
    "        index += 1\n",
    "    while j <= end:\n",
    "        result[index] = arr[j]\n",
    "        j += 1\n",
    "        index += 1\n",
    "    for k in range(len(result)):\n",
    "        arr[start+k] = result[k]"
   ]
  },
  {
   "cell_type": "code",
   "execution_count": 4,
   "metadata": {},
   "outputs": [
    {
     "data": {
      "text/plain": [
       "[1, 2, 4, 4, 6, 7, 9]"
      ]
     },
     "execution_count": 4,
     "metadata": {},
     "output_type": "execute_result"
    }
   ],
   "source": [
    "merge_sort([2,4,1,6,7,9,4])"
   ]
  }
 ],
 "metadata": {
  "kernelspec": {
   "display_name": "Python 3",
   "language": "python",
   "name": "python3"
  },
  "language_info": {
   "codemirror_mode": {
    "name": "ipython",
    "version": 3
   },
   "file_extension": ".py",
   "mimetype": "text/x-python",
   "name": "python",
   "nbconvert_exporter": "python",
   "pygments_lexer": "ipython3",
   "version": "3.7.6"
  }
 },
 "nbformat": 4,
 "nbformat_minor": 4
}
